{
 "cells": [
  {
   "cell_type": "code",
   "execution_count": 3,
   "metadata": {},
   "outputs": [],
   "source": [
    "def numOfEvenDigits(nums):\n",
    "    cnt = 0\n",
    "    for n in nums:\n",
    "        cnt += len(str(n)) % 2 == 0\n",
    "    return cnt"
   ]
  },
  {
   "cell_type": "code",
   "execution_count": 37,
   "metadata": {},
   "outputs": [],
   "source": [
    "def isEvenDigits(num):\n",
    "    even = False\n",
    "    \n",
    "    while num // 10 != 0:\n",
    "        num //= 10\n",
    "        even = not even\n",
    "    return even\n",
    "\n",
    "def numOfEvenDigits(nums):\n",
    "    cnt = 0\n",
    "    for n in nums:\n",
    "        cnt += isEvenDigits(n)\n",
    "    return cnt"
   ]
  },
  {
   "cell_type": "code",
   "execution_count": 35,
   "metadata": {},
   "outputs": [],
   "source": [
    "nums = [1515,901,482,1771]"
   ]
  },
  {
   "cell_type": "code",
   "execution_count": 36,
   "metadata": {},
   "outputs": [
    {
     "data": {
      "text/plain": [
       "2"
      ]
     },
     "execution_count": 36,
     "metadata": {},
     "output_type": "execute_result"
    }
   ],
   "source": [
    "numOfEvenDigits(nums)"
   ]
  }
 ],
 "metadata": {
  "kernelspec": {
   "display_name": "Python 2",
   "language": "python",
   "name": "python2"
  },
  "language_info": {
   "codemirror_mode": {
    "name": "ipython",
    "version": 2
   },
   "file_extension": ".py",
   "mimetype": "text/x-python",
   "name": "python",
   "nbconvert_exporter": "python",
   "pygments_lexer": "ipython2",
   "version": "2.7.18"
  }
 },
 "nbformat": 4,
 "nbformat_minor": 2
}
