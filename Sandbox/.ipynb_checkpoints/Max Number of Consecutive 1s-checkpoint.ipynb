{
 "cells": [
  {
   "cell_type": "markdown",
   "metadata": {},
   "source": [
    "You're given a binary array composed of 0s and 1s. Find the maximum number of consecutive 1s."
   ]
  },
  {
   "cell_type": "code",
   "execution_count": 1,
   "metadata": {},
   "outputs": [],
   "source": [
    "def maxNumOnes(nums):\n",
    "    lSum, gMax = 0, 0  # initialize local sum and global max\n",
    "    \n",
    "    for n in nums:\n",
    "        lSum = lSum + n if n else 0\n",
    "        gMax = max(gMax, lSum)\n",
    "    return gMax"
   ]
  },
  {
   "cell_type": "code",
   "execution_count": 2,
   "metadata": {},
   "outputs": [
    {
     "name": "stdout",
     "output_type": "stream",
     "text": [
      "2\n",
      "5\n"
     ]
    }
   ],
   "source": [
    "nums = [[0, 0, 0, 1, 1, 0, 0, 0], [1, 1, 1, 1, 1, 0, 0, 1, 1]]\n",
    "for n in nums:\n",
    "    print(maxNumOnes(n))"
   ]
  }
 ],
 "metadata": {
  "kernelspec": {
   "display_name": "Python 2",
   "language": "python",
   "name": "python2"
  },
  "language_info": {
   "codemirror_mode": {
    "name": "ipython",
    "version": 2
   },
   "file_extension": ".py",
   "mimetype": "text/x-python",
   "name": "python",
   "nbconvert_exporter": "python",
   "pygments_lexer": "ipython2",
   "version": "2.7.18"
  }
 },
 "nbformat": 4,
 "nbformat_minor": 2
}
