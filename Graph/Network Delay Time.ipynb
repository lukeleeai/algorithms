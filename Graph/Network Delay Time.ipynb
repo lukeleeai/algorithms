{
 "cells": [
  {
   "cell_type": "markdown",
   "metadata": {},
   "source": [
    "https://leetcode.com/problems/network-delay-time/submissions/"
   ]
  },
  {
   "cell_type": "markdown",
   "metadata": {},
   "source": [
    "collections.defaultdict(list)로 정형화된 graph 를 만든 후 heap을 이용하여 graph 를 탐색한다.  \n",
    "t 안에 포함된 node 의 개수와 N가 같을 때 max_time, 같지 않으면 -1을 반환한다.  \n",
    "예를 들어 [[1, 2, 1]]의 경우에는 -1을 출력해야 하고  \n",
    "[[2,1,1],[2,3,1],[3,4,1]]"
   ]
  },
  {
   "cell_type": "code",
   "execution_count": 56,
   "metadata": {},
   "outputs": [],
   "source": [
    "def network(times, N, K):\n",
    "    queue, t, adj = [(0, K)], {}, collections.defaultdict(list)\n",
    "    max_time = 0\n",
    "    for u, v, w in times:\n",
    "        adj[u].append((v, w))\n",
    "\n",
    "    while queue:\n",
    "        time, node = heapq.heappop(queue)\n",
    "        if node not in t:\n",
    "            t[node] = time\n",
    "            max_time = max(time, max_time)\n",
    "            for v, w in adj[node]:\n",
    "                heapq.heappush(queue, (time+w, v))\n",
    "                \n",
    "    return max_time if len(t)==N else -1"
   ]
  },
  {
   "cell_type": "code",
   "execution_count": 57,
   "metadata": {},
   "outputs": [],
   "source": [
    "times = [[2,1,1],[2,3,1],[3,4,1]]\n",
    "# times = [[1, 2, 1]]\n",
    "# times = [[1,2,1],[2,1,3]]\n",
    "# times = [[1,2,1],[2,3,2],[1,3,2]]"
   ]
  },
  {
   "cell_type": "code",
   "execution_count": 58,
   "metadata": {},
   "outputs": [
    {
     "data": {
      "text/plain": [
       "2"
      ]
     },
     "execution_count": 58,
     "metadata": {},
     "output_type": "execute_result"
    }
   ],
   "source": [
    "network(times, 4, 2)"
   ]
  },
  {
   "cell_type": "code",
   "execution_count": 12,
   "metadata": {},
   "outputs": [],
   "source": [
    "def dij(time_graph, K):  # K: start\n",
    "    times = {time_graph[0][0]: 0}\n",
    "    times[K] = 0\n",
    "    max_time = 0\n",
    "    isLeaf = True\n",
    "    \n",
    "    for u, v, w in time_graph:\n",
    "        time = times[u] + w\n",
    "        if u == K:\n",
    "            isLeaf = False\n",
    "            time = w\n",
    "        times[v] = time\n",
    "        max_time = max(time, max_time)\n",
    "        \n",
    "    return -1 if isLeaf else max_time"
   ]
  },
  {
   "cell_type": "code",
   "execution_count": 16,
   "metadata": {},
   "outputs": [
    {
     "name": "stdout",
     "output_type": "stream",
     "text": [
      "{1: 0, 2: 0}\n"
     ]
    },
    {
     "data": {
      "text/plain": [
       "-1"
      ]
     },
     "execution_count": 16,
     "metadata": {},
     "output_type": "execute_result"
    }
   ],
   "source": [
    "dij(times, 2, 2)"
   ]
  },
  {
   "cell_type": "code",
   "execution_count": 17,
   "metadata": {},
   "outputs": [],
   "source": [
    "import collections"
   ]
  },
  {
   "cell_type": "code",
   "execution_count": 22,
   "metadata": {},
   "outputs": [
    {
     "data": {
      "text/plain": [
       "defaultdict(list, {})"
      ]
     },
     "execution_count": 22,
     "metadata": {},
     "output_type": "execute_result"
    }
   ],
   "source": [
    "adj = collections.defaultdict(list)\n",
    "adj"
   ]
  },
  {
   "cell_type": "code",
   "execution_count": 23,
   "metadata": {},
   "outputs": [],
   "source": [
    "adj[u].append((1, 2))"
   ]
  },
  {
   "cell_type": "code",
   "execution_count": 24,
   "metadata": {},
   "outputs": [
    {
     "data": {
      "text/plain": [
       "defaultdict(list, {3: [(1, 2)]})"
      ]
     },
     "execution_count": 24,
     "metadata": {},
     "output_type": "execute_result"
    }
   ],
   "source": [
    "adj"
   ]
  },
  {
   "cell_type": "code",
   "execution_count": 28,
   "metadata": {},
   "outputs": [],
   "source": [
    "import heapq"
   ]
  },
  {
   "cell_type": "code",
   "execution_count": 43,
   "metadata": {},
   "outputs": [
    {
     "data": {
      "text/plain": [
       "1"
      ]
     },
     "execution_count": 43,
     "metadata": {},
     "output_type": "execute_result"
    }
   ],
   "source": [
    "network(times, 2, 1)"
   ]
  }
 ],
 "metadata": {
  "kernelspec": {
   "display_name": "Python 2",
   "language": "python",
   "name": "python2"
  },
  "language_info": {
   "codemirror_mode": {
    "name": "ipython",
    "version": 2
   },
   "file_extension": ".py",
   "mimetype": "text/x-python",
   "name": "python",
   "nbconvert_exporter": "python",
   "pygments_lexer": "ipython2",
   "version": "2.7.18"
  }
 },
 "nbformat": 4,
 "nbformat_minor": 2
}
