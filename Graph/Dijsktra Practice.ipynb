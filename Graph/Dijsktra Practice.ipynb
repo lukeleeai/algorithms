{
 "cells": [
  {
   "cell_type": "code",
   "execution_count": 2,
   "metadata": {},
   "outputs": [],
   "source": [
    "import heapq\n",
    "\n",
    "queue = []\n",
    "\n",
    "heapq.heappush(queue, [2, 'A'])\n",
    "heapq.heappush(queue, [5, 'B'])\n",
    "heapq.heappush(queue, [1, 'C'])"
   ]
  },
  {
   "cell_type": "code",
   "execution_count": 3,
   "metadata": {},
   "outputs": [
    {
     "data": {
      "text/plain": [
       "[[1, 'C'], [5, 'B'], [2, 'A']]"
      ]
     },
     "execution_count": 3,
     "metadata": {},
     "output_type": "execute_result"
    }
   ],
   "source": [
    "queue"
   ]
  },
  {
   "cell_type": "code",
   "execution_count": 4,
   "metadata": {},
   "outputs": [
    {
     "data": {
      "text/plain": [
       "[1, 'C']"
      ]
     },
     "execution_count": 4,
     "metadata": {},
     "output_type": "execute_result"
    }
   ],
   "source": [
    "heapq.heappop(queue)"
   ]
  },
  {
   "cell_type": "code",
   "execution_count": 5,
   "metadata": {},
   "outputs": [
    {
     "data": {
      "text/plain": [
       "[2, 'A']"
      ]
     },
     "execution_count": 5,
     "metadata": {},
     "output_type": "execute_result"
    }
   ],
   "source": [
    "heapq.heappop(queue)"
   ]
  },
  {
   "cell_type": "code",
   "execution_count": 6,
   "metadata": {},
   "outputs": [
    {
     "data": {
      "text/plain": [
       "[5, 'B']"
      ]
     },
     "execution_count": 6,
     "metadata": {},
     "output_type": "execute_result"
    }
   ],
   "source": [
    "heapq.heappop(queue)"
   ]
  },
  {
   "cell_type": "code",
   "execution_count": 7,
   "metadata": {},
   "outputs": [],
   "source": [
    "myGraph = {\n",
    "    'A': {'B': 8, 'C': 1, 'D': 2},\n",
    "    'B': {},\n",
    "    'C': {'B': 5, 'D': 2},\n",
    "    'D': {'E': 3, 'F': 5},\n",
    "    'E': {'F': 1},\n",
    "    'F': {'A': 5}\n",
    "}"
   ]
  },
  {
   "cell_type": "code",
   "execution_count": 8,
   "metadata": {},
   "outputs": [],
   "source": [
    "def dijsktra(graph, start):\n",
    "    \n",
    "    distances = {node: float('inf') for node in graph}\n",
    "    distances[start] = 0\n",
    "    \n",
    "    queue = []\n",
    "    heapq.heappush(queue, [distances[start], start])\n",
    "    \n",
    "    while queue:\n",
    "        cur_dis, cur_node = heapq.heappop(queue)\n",
    "        \n",
    "        if distances[cur_node] < cur_dis:\n",
    "            continue\n",
    "        \n",
    "        for neighbor, weight in graph[cur_node].items():\n",
    "            dis = cur_dis + weight\n",
    "            \n",
    "            if dis < distances[neighbor]:\n",
    "                distances[neighbor] = dis\n",
    "                heapq.heappush(queue, [dis, neighbor])\n",
    "    \n",
    "    return distances"
   ]
  },
  {
   "cell_type": "code",
   "execution_count": 9,
   "metadata": {},
   "outputs": [
    {
     "data": {
      "text/plain": [
       "{'A': 0, 'B': 6, 'C': 1, 'D': 2, 'E': 5, 'F': 6}"
      ]
     },
     "execution_count": 9,
     "metadata": {},
     "output_type": "execute_result"
    }
   ],
   "source": [
    "dijsktra(myGraph, 'A')"
   ]
  },
  {
   "cell_type": "code",
   "execution_count": 10,
   "metadata": {},
   "outputs": [],
   "source": [
    "def dijNavigator(graph, start, end):\n",
    "    distances = {node: [float('inf'), start] for node in graph}\n",
    "    distances[start] = [0, start]\n",
    "    \n",
    "    queue = []\n",
    "    heapq.heappush(queue, [distances[start][0], start])\n",
    "    \n",
    "    while queue:\n",
    "        cur_dis, cur_node = heapq.heappop(queue)\n",
    "        \n",
    "        if distances[cur_node][0] < cur_dis:\n",
    "            continue\n",
    "        \n",
    "        for neighbor, weight in graph[cur_node].items():\n",
    "            dis = cur_dis + weight\n",
    "            \n",
    "            if dis < distances[neighbor][0]:\n",
    "                distances[neighbor] = [dis, cur_node]\n",
    "                heapq.heappush(queue, [dis, neighbor])\n",
    "    \n",
    "    path = end\n",
    "    path_output = end + ' -> '\n",
    "    while distances[path][1] != start:\n",
    "        path = distances[path][1]\n",
    "        path_output += path + ' -> '\n",
    "    path_output += start\n",
    "    print(path_output)\n",
    "    return distances"
   ]
  },
  {
   "cell_type": "code",
   "execution_count": 11,
   "metadata": {},
   "outputs": [
    {
     "name": "stdout",
     "output_type": "stream",
     "text": [
      "F -> E -> D -> A\n"
     ]
    }
   ],
   "source": [
    "nav = dijNavigator(myGraph, 'A', 'F')"
   ]
  },
  {
   "cell_type": "code",
   "execution_count": 12,
   "metadata": {},
   "outputs": [
    {
     "data": {
      "text/plain": [
       "{'A': [0, 'A'],\n",
       " 'B': [6, 'C'],\n",
       " 'C': [1, 'A'],\n",
       " 'D': [2, 'A'],\n",
       " 'E': [5, 'D'],\n",
       " 'F': [6, 'E']}"
      ]
     },
     "execution_count": 12,
     "metadata": {},
     "output_type": "execute_result"
    }
   ],
   "source": [
    "nav"
   ]
  },
  {
   "cell_type": "markdown",
   "metadata": {},
   "source": [
    "Undirected Graph"
   ]
  },
  {
   "cell_type": "code",
   "execution_count": 88,
   "metadata": {},
   "outputs": [],
   "source": [
    "# times = [[2,1,1],[2,3,1],[3,4,1]]\n",
    "# times = [[1, 2, 1]]\n",
    "# times = [[1,2,1],[2,1,3]]\n",
    "times = [[1,2,1],[2,3,2],[1,3,2]]"
   ]
  },
  {
   "cell_type": "code",
   "execution_count": 89,
   "metadata": {},
   "outputs": [],
   "source": [
    "def dij(time_graph, K):  # K: start\n",
    "    times = {time_graph[0][0]: 0}\n",
    "    times[K] = 0\n",
    "    max_time = 0\n",
    "    isLeaf = True\n",
    "    \n",
    "    for u, v, w in time_graph:\n",
    "        time = times[u] + w\n",
    "        if u == K:\n",
    "            isLeaf = False\n",
    "            time = w\n",
    "        times[v] = time\n",
    "        max_time = max(time, max_time)\n",
    "        \n",
    "    return -1 if isLeaf else max_time"
   ]
  },
  {
   "cell_type": "code",
   "execution_count": 91,
   "metadata": {},
   "outputs": [
    {
     "data": {
      "text/plain": [
       "3"
      ]
     },
     "execution_count": 91,
     "metadata": {},
     "output_type": "execute_result"
    }
   ],
   "source": [
    "dij(times, 1)"
   ]
  },
  {
   "cell_type": "code",
   "execution_count": null,
   "metadata": {},
   "outputs": [],
   "source": []
  },
  {
   "cell_type": "code",
   "execution_count": null,
   "metadata": {},
   "outputs": [],
   "source": []
  },
  {
   "cell_type": "code",
   "execution_count": null,
   "metadata": {},
   "outputs": [],
   "source": []
  },
  {
   "cell_type": "code",
   "execution_count": null,
   "metadata": {},
   "outputs": [],
   "source": []
  }
 ],
 "metadata": {
  "kernelspec": {
   "display_name": "Python 2",
   "language": "python",
   "name": "python2"
  },
  "language_info": {
   "codemirror_mode": {
    "name": "ipython",
    "version": 2
   },
   "file_extension": ".py",
   "mimetype": "text/x-python",
   "name": "python",
   "nbconvert_exporter": "python",
   "pygments_lexer": "ipython2",
   "version": "2.7.18"
  }
 },
 "nbformat": 4,
 "nbformat_minor": 2
}
