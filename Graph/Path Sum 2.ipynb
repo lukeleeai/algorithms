{
 "cells": [
  {
   "cell_type": "code",
   "execution_count": 1,
   "metadata": {},
   "outputs": [],
   "source": [
    "class TreeNode:\n",
    "    def __init__(self, val=0, left=None, right=None):\n",
    "        self.val = val\n",
    "        self.left = left\n",
    "        self.right = right"
   ]
  },
  {
   "cell_type": "code",
   "execution_count": 3,
   "metadata": {},
   "outputs": [],
   "source": [
    "def DFS(answers, paths, node, curSum, sum_v):\n",
    "    if node == None:\n",
    "        return\n",
    "    \n",
    "    paths.append(node.val)\n",
    "    \n",
    "    if curSum + node.val == sum_v:\n",
    "        answers.append(paths)\n",
    "    \n",
    "    DFS(paths, node.left)\n",
    "    DFS(paths, node.right)"
   ]
  },
  {
   "cell_type": "code",
   "execution_count": 6,
   "metadata": {},
   "outputs": [],
   "source": [
    "def pathSum(root, sum_v):\n",
    "    answers, paths = [], []\n",
    "    DFS(answers, paths, root, 0, sum_v)\n",
    "    print(answers)"
   ]
  },
  {
   "cell_type": "code",
   "execution_count": null,
   "metadata": {},
   "outputs": [],
   "source": [
    "pathSum()"
   ]
  },
  {
   "cell_type": "code",
   "execution_count": 7,
   "metadata": {},
   "outputs": [
    {
     "ename": "SyntaxError",
     "evalue": "invalid syntax (<ipython-input-7-2f852ec2bd96>, line 25)",
     "output_type": "error",
     "traceback": [
      "\u001b[0;36m  File \u001b[0;32m\"<ipython-input-7-2f852ec2bd96>\"\u001b[0;36m, line \u001b[0;32m25\u001b[0m\n\u001b[0;31m    def pathSum(self, root: TreeNode, sum: int) -> List[List[int]]:\u001b[0m\n\u001b[0m                          ^\u001b[0m\n\u001b[0;31mSyntaxError\u001b[0m\u001b[0;31m:\u001b[0m invalid syntax\n"
     ]
    }
   ],
   "source": [
    "from copy import deepcopy\n",
    "\n",
    "# Definition for a binary tree node.\n",
    "# class TreeNode:\n",
    "#     def __init__(self, val=0, left=None, right=None):\n",
    "#         self.val = val\n",
    "#         self.left = left\n",
    "#         self.right = right\n",
    "class Solution:\n",
    "    def DFS(self, answers, paths, node, curSum, sum_v):\n",
    "        if node == None:\n",
    "            return\n",
    "        \n",
    "        paths = deepcopy(paths)\n",
    "\n",
    "        paths.append(node.val)\n",
    "        curSum += node.val\n",
    "\n",
    "        if curSum == sum_v and (node.left == None and node.right == None):\n",
    "            answers.append(paths)\n",
    "\n",
    "        self.DFS(answers, paths, node.left, curSum, sum_v)\n",
    "        self.DFS(answers, paths, node.right, curSum, sum_v)\n",
    "    \n",
    "    def pathSum(self, root: TreeNode, sum: int) -> List[List[int]]:\n",
    "        answers, paths = [], []\n",
    "        self.DFS(answers, paths, root, 0, sum)\n",
    "        return answers\n",
    "        \n",
    "        "
   ]
  },
  {
   "cell_type": "code",
   "execution_count": null,
   "metadata": {},
   "outputs": [],
   "source": []
  }
 ],
 "metadata": {
  "kernelspec": {
   "display_name": "Python 2",
   "language": "python",
   "name": "python2"
  },
  "language_info": {
   "codemirror_mode": {
    "name": "ipython",
    "version": 2
   },
   "file_extension": ".py",
   "mimetype": "text/x-python",
   "name": "python",
   "nbconvert_exporter": "python",
   "pygments_lexer": "ipython2",
   "version": "2.7.18"
  }
 },
 "nbformat": 4,
 "nbformat_minor": 2
}
