{
 "cells": [
  {
   "cell_type": "markdown",
   "metadata": {},
   "source": [
    "There are N students in a class. Some of them are friends, while some are not. Their friendship is transitive in nature. For example, if A is a direct friend of B, and B is a direct friend of C, then A is an indirect friend of C. And we defined a friend circle is a group of students who are direct or indirect friends.\n",
    "\n",
    "Given a N*N matrix M representing the friend relationship between students in the class. If M[i][j] = 1, then the ith and jth students are direct friends with each other, otherwise not. And you have to output the total number of friend circles among all the students.\n",
    "\n",
    "Example 1:  \n",
    "Input: \n",
    "[[1,1,0],\n",
    " [1,1,0],\n",
    " [0,0,1]]\n",
    "  \n",
    "Output: 2\n",
    "Explanation:The 0th and 1st students are direct friends, so they are in a friend circle. \n",
    "The 2nd student himself is in a friend circle. So return 2.\n",
    "  \n",
    "Example 2:\n",
    "  \n",
    "Input: \n",
    "[[1,1,0],\n",
    " [1,1,1],\n",
    " [0,1,1]]\n",
    "   \n",
    "Output: 1\n",
    "  \n",
    "Explanation:The 0th and 1st students are direct friends, the 1st and 2nd students are direct friends, \n",
    "so the 0th and 2nd students are indirect friends. All of them are in the same friend circle, so return 1.\n",
    "  \n",
    "Note:\n",
    "  \n",
    "N is in range [1,200].\n",
    "M[i][i] = 1 for all students.\n",
    "If M[i][j] = 1, then M[j][i] = 1."
   ]
  },
  {
   "cell_type": "markdown",
   "metadata": {},
   "source": [
    "### Solution1"
   ]
  },
  {
   "cell_type": "code",
   "execution_count": 102,
   "metadata": {},
   "outputs": [],
   "source": [
    "class Solution:\n",
    "    def findCircleNum(self, M):\n",
    "        uf = self.UF(M)\n",
    "        \n",
    "        for i in range(len(M)):\n",
    "            for j in range(i+1, len(M[0])):\n",
    "                if M[i][j]:\n",
    "                    uf.union(i, j)\n",
    "        \n",
    "        return uf.findCircleNum()\n",
    "                \n",
    "    class UF:\n",
    "        def __init__(self, M):\n",
    "            self.parents = []\n",
    "            \n",
    "            for i in range(len(M)):\n",
    "                self.parents.append(i)\n",
    "                \n",
    "        def find(self, i):\n",
    "#             if self.parents[i] != i:\n",
    "#                 return self.find(self.parents[i])\n",
    "#             return i\n",
    "            while i != self.parents[i]:  # path compression by halving\n",
    "                self.parents[i] = self.parents[self.parents[i]]\n",
    "                i = self.parents[i]\n",
    "            return i\n",
    "        \n",
    "    \n",
    "        def union(self, i, j):\n",
    "            rootI = self.find(i)\n",
    "            rootJ = self.find(j)\n",
    "            \n",
    "            if rootI != rootJ:\n",
    "                self.parents[rootI] = rootJ\n",
    "\n",
    "        def findCircleNum(self):\n",
    "            print(self.parents)\n",
    "            circles = []\n",
    "            for i in self.parents:\n",
    "                rootI = self.find(i)\n",
    "                if rootI not in circles:\n",
    "                    circles.append(rootI)\n",
    "\n",
    "                    return len(circles)"
   ]
  },
  {
   "cell_type": "markdown",
   "metadata": {},
   "source": [
    "### Solution 2\n",
    "마지막에 parents 를 돌릴 필요 없이 union 할 때마다 count 를 n에서 하나씩 빼주는 방법"
   ]
  },
  {
   "cell_type": "code",
   "execution_count": 103,
   "metadata": {},
   "outputs": [],
   "source": [
    "class Solution2:\n",
    "    def findCircleNum(self, M):\n",
    "        uf = self.UF(M)\n",
    "        \n",
    "        for i in range(len(M)):\n",
    "            for j in range(i+1, len(M[0])):\n",
    "                if M[i][j]:\n",
    "                    uf.union(i, j)\n",
    "        \n",
    "        return uf.findCircleNum()\n",
    "                \n",
    "    class UF:\n",
    "        def __init__(self, M):\n",
    "            self.parents = []\n",
    "            self.count = len(M)\n",
    "            \n",
    "            for i in range(len(M)):\n",
    "                self.parents.append(i)\n",
    "                \n",
    "        def find(self, i):\n",
    "            while i != self.parents[i]:  # path compression by halving\n",
    "                self.parents[i] = self.parents[self.parents[i]]\n",
    "                i = self.parents[i]\n",
    "            return i\n",
    "    \n",
    "        def union(self, i, j):\n",
    "            rootI = self.find(i)\n",
    "            rootJ = self.find(j)\n",
    "            \n",
    "            if rootI != rootJ:\n",
    "                self.parents[rootI] = rootJ\n",
    "                self.count -= 1\n",
    "\n",
    "        def findCircleNum(self):\n",
    "            return self.count"
   ]
  },
  {
   "cell_type": "code",
   "execution_count": 104,
   "metadata": {},
   "outputs": [],
   "source": [
    "s = Solution2()"
   ]
  },
  {
   "cell_type": "code",
   "execution_count": 105,
   "metadata": {},
   "outputs": [],
   "source": [
    "a = [[1,1,0],\n",
    "     [1,1,1],\n",
    "     [0,1,1]]"
   ]
  },
  {
   "cell_type": "code",
   "execution_count": 106,
   "metadata": {},
   "outputs": [
    {
     "data": {
      "text/plain": [
       "1"
      ]
     },
     "execution_count": 106,
     "metadata": {},
     "output_type": "execute_result"
    }
   ],
   "source": [
    "s.findCircleNum(a)"
   ]
  },
  {
   "cell_type": "code",
   "execution_count": 107,
   "metadata": {},
   "outputs": [],
   "source": [
    "b = [[1,1,0],\n",
    "     [1,1,0],\n",
    "     [0,0,1]]"
   ]
  },
  {
   "cell_type": "code",
   "execution_count": 108,
   "metadata": {},
   "outputs": [
    {
     "data": {
      "text/plain": [
       "2"
      ]
     },
     "execution_count": 108,
     "metadata": {},
     "output_type": "execute_result"
    }
   ],
   "source": [
    "s.findCircleNum(b)"
   ]
  }
 ],
 "metadata": {
  "kernelspec": {
   "display_name": "Python 3",
   "language": "python",
   "name": "python3"
  },
  "language_info": {
   "codemirror_mode": {
    "name": "ipython",
    "version": 3
   },
   "file_extension": ".py",
   "mimetype": "text/x-python",
   "name": "python",
   "nbconvert_exporter": "python",
   "pygments_lexer": "ipython3",
   "version": "3.7.7"
  }
 },
 "nbformat": 4,
 "nbformat_minor": 4
}
