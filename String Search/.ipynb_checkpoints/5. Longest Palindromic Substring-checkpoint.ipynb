{
 "cells": [
  {
   "cell_type": "markdown",
   "metadata": {},
   "source": [
    "https://leetcode.com/problems/longest-palindromic-substring/"
   ]
  },
  {
   "cell_type": "code",
   "execution_count": 123,
   "metadata": {},
   "outputs": [],
   "source": [
    "def longestPalindrom(s):\n",
    "    res=''\n",
    "    for i in range(len(s)):\n",
    "        res = max(helper(s, i, i), helper(s, i, i+1), res, key=len)\n",
    "    return res\n",
    "\n",
    "def helper(s, l, r):\n",
    "    while l>=0 and r<len(s) and s[l]==s[r]:\n",
    "        l-=1; r+=1\n",
    "    return s[l+1:r]"
   ]
  },
  {
   "cell_type": "code",
   "execution_count": 124,
   "metadata": {},
   "outputs": [
    {
     "data": {
      "text/plain": [
       "'jzzzzzzzzzzzzzj'"
      ]
     },
     "execution_count": 124,
     "metadata": {},
     "output_type": "execute_result"
    }
   ],
   "source": [
    "s = 'afsdafhasdjzzzzzzzzzzzzzjasdfjafk'\n",
    "longestPalindrom(s)"
   ]
  },
  {
   "cell_type": "code",
   "execution_count": 113,
   "metadata": {},
   "outputs": [],
   "source": [
    "def longestPalindrome(s):\n",
    "    if len(s) < 2: return s\n",
    "    max_pal = ''\n",
    "    pal = ''\n",
    "    \n",
    "    for i, c in enumerate(s):\n",
    "        if i < len(s)-1 and c == s[i+1]:\n",
    "            pal = s[i:i+2]\n",
    "            for j in range(1, min(i, len(s)-i-1)):\n",
    "                if s[i-j] == s[i+j+1]:\n",
    "                    pal = s[i-j] + pal + s[i+j+1]\n",
    "                else:\n",
    "                    break\n",
    "        if 0 < i and i < len(s) -1 and s[i-1] == s[i+1]:\n",
    "            pal = s[i-1:i+2]\n",
    "            for j in range(2, min(i, len(s)-i)):\n",
    "                if s[i-j] == s[i+j]:\n",
    "                    pal = s[i-j] + pal + s[i+j]\n",
    "                else:\n",
    "                    break\n",
    "        if len(max_pal) < len(pal):\n",
    "            max_pal = pal\n",
    "\n",
    "    return max_pal"
   ]
  },
  {
   "cell_type": "code",
   "execution_count": 109,
   "metadata": {},
   "outputs": [],
   "source": [
    "s = 'asfdazzadfffabbbafff'"
   ]
  },
  {
   "cell_type": "code",
   "execution_count": 110,
   "metadata": {},
   "outputs": [],
   "source": [
    "s = 'a'"
   ]
  },
  {
   "cell_type": "code",
   "execution_count": 111,
   "metadata": {},
   "outputs": [
    {
     "data": {
      "text/plain": [
       "'a'"
      ]
     },
     "execution_count": 111,
     "metadata": {},
     "output_type": "execute_result"
    }
   ],
   "source": [
    "longestPalindrome(s)"
   ]
  },
  {
   "cell_type": "code",
   "execution_count": null,
   "metadata": {},
   "outputs": [],
   "source": []
  },
  {
   "cell_type": "code",
   "execution_count": null,
   "metadata": {},
   "outputs": [],
   "source": []
  }
 ],
 "metadata": {
  "kernelspec": {
   "display_name": "Python 2",
   "language": "python",
   "name": "python2"
  },
  "language_info": {
   "codemirror_mode": {
    "name": "ipython",
    "version": 2
   },
   "file_extension": ".py",
   "mimetype": "text/x-python",
   "name": "python",
   "nbconvert_exporter": "python",
   "pygments_lexer": "ipython2",
   "version": "2.7.18"
  }
 },
 "nbformat": 4,
 "nbformat_minor": 2
}
