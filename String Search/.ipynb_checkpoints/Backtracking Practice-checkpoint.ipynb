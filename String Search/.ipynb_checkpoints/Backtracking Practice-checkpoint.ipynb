{
 "cells": [
  {
   "cell_type": "code",
   "execution_count": 5,
   "metadata": {},
   "outputs": [],
   "source": [
    "def permute(length, s):\n",
    "    if length == 1:\n",
    "        return s\n",
    "    return [\n",
    "        y+x\n",
    "        for y in permute(1, s)\n",
    "        for x in permute(length - 1, s)\n",
    "    ]"
   ]
  },
  {
   "cell_type": "code",
   "execution_count": 8,
   "metadata": {},
   "outputs": [],
   "source": [
    "s = ['a', 'b', 'c']"
   ]
  },
  {
   "cell_type": "code",
   "execution_count": 9,
   "metadata": {},
   "outputs": [
    {
     "data": {
      "text/plain": [
       "['aaa',\n",
       " 'aab',\n",
       " 'aac',\n",
       " 'aba',\n",
       " 'abb',\n",
       " 'abc',\n",
       " 'aca',\n",
       " 'acb',\n",
       " 'acc',\n",
       " 'baa',\n",
       " 'bab',\n",
       " 'bac',\n",
       " 'bba',\n",
       " 'bbb',\n",
       " 'bbc',\n",
       " 'bca',\n",
       " 'bcb',\n",
       " 'bcc',\n",
       " 'caa',\n",
       " 'cab',\n",
       " 'cac',\n",
       " 'cba',\n",
       " 'cbb',\n",
       " 'cbc',\n",
       " 'cca',\n",
       " 'ccb',\n",
       " 'ccc']"
      ]
     },
     "execution_count": 9,
     "metadata": {},
     "output_type": "execute_result"
    }
   ],
   "source": [
    "permute(3, s)"
   ]
  },
  {
   "cell_type": "code",
   "execution_count": null,
   "metadata": {},
   "outputs": [],
   "source": []
  }
 ],
 "metadata": {
  "kernelspec": {
   "display_name": "Python 2",
   "language": "python",
   "name": "python2"
  },
  "language_info": {
   "codemirror_mode": {
    "name": "ipython",
    "version": 2
   },
   "file_extension": ".py",
   "mimetype": "text/x-python",
   "name": "python",
   "nbconvert_exporter": "python",
   "pygments_lexer": "ipython2",
   "version": "2.7.18"
  }
 },
 "nbformat": 4,
 "nbformat_minor": 2
}
