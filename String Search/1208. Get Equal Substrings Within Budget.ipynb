{
 "cells": [
  {
   "cell_type": "markdown",
   "metadata": {},
   "source": [
    "https://leetcode.com/problems/get-equal-substrings-within-budget"
   ]
  },
  {
   "cell_type": "code",
   "execution_count": 123,
   "metadata": {},
   "outputs": [],
   "source": [
    "class Solution():\n",
    "    def exist(self, s, t, cost):\n",
    "        i = 0  # num of chars not included in the longest substring\n",
    "        \n",
    "        for j in range(len(s)):\n",
    "            cost -= abs(ord(s[i])-ord(t[i]))\n",
    "            if cost < 0:\n",
    "                cost += abs(ord(s[i])-ord(t[i]))  # if cost < 0, recover the cost\n",
    "                i += 1  # this string is not included\n",
    "        return j - i + 1  # length of the longest substring"
   ]
  },
  {
   "cell_type": "code",
   "execution_count": 5,
   "metadata": {},
   "outputs": [],
   "source": [
    "import heapq"
   ]
  },
  {
   "cell_type": "code",
   "execution_count": 51,
   "metadata": {},
   "outputs": [],
   "source": [
    "class Solution(object):\n",
    "    def equalSubstring(self, s, t, maxCost):\n",
    "        costs = []\n",
    "        c = 0\n",
    "        res = 0\n",
    "        \n",
    "        for i in range(len(s)):\n",
    "            cost = abs(ord(s[i]) - ord(t[i]))\n",
    "            heapq.heappush(costs, cost)\n",
    "        \n",
    "        for cost in costs:\n",
    "            c += cost\n",
    "            if c <= maxCost:\n",
    "                res += 1\n",
    "        \n",
    "        return res"
   ]
  },
  {
   "cell_type": "code",
   "execution_count": 120,
   "metadata": {},
   "outputs": [],
   "source": [
    "S = Solution()"
   ]
  },
  {
   "cell_type": "code",
   "execution_count": 121,
   "metadata": {},
   "outputs": [
    {
     "name": "stdout",
     "output_type": "stream",
     "text": [
      "4\n"
     ]
    }
   ],
   "source": [
    "print(S.exist(\"krpgjbjjznpzdfy\", \"nxargkbydxmsgby\", 14))"
   ]
  },
  {
   "cell_type": "code",
   "execution_count": null,
   "metadata": {},
   "outputs": [],
   "source": []
  },
  {
   "cell_type": "code",
   "execution_count": null,
   "metadata": {},
   "outputs": [],
   "source": []
  }
 ],
 "metadata": {
  "kernelspec": {
   "display_name": "Python 2",
   "language": "python",
   "name": "python2"
  },
  "language_info": {
   "codemirror_mode": {
    "name": "ipython",
    "version": 2
   },
   "file_extension": ".py",
   "mimetype": "text/x-python",
   "name": "python",
   "nbconvert_exporter": "python",
   "pygments_lexer": "ipython2",
   "version": "2.7.18"
  }
 },
 "nbformat": 4,
 "nbformat_minor": 2
}
