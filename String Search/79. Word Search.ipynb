{
 "cells": [
  {
   "cell_type": "code",
   "execution_count": 2,
   "metadata": {},
   "outputs": [],
   "source": [
    "board = [\n",
    "  ['A','B','C','E'],\n",
    "  ['S','F','C','S'],\n",
    "  ['A','D','E','E']\n",
    "]"
   ]
  },
  {
   "cell_type": "code",
   "execution_count": 53,
   "metadata": {},
   "outputs": [],
   "source": [
    "class Solution:\n",
    "    def exist(self, board, word):\n",
    "        for i in range(len(board)):\n",
    "            for j in range(len(board[i])):\n",
    "                if self.dsf(board, word, i, j):\n",
    "                    return True\n",
    "        return False\n",
    "                \n",
    "    def dsf(self, board, word, i, j):\n",
    "        if not word:\n",
    "            return True\n",
    "\n",
    "        if i<0 or i>=len(board) or j<0 or j>=len(board[0]) or word[0] != board[i][j]:\n",
    "            return False\n",
    "\n",
    "        temp = board[i][j]\n",
    "        board[i][j] = '#'\n",
    "        \n",
    "        res = self.dsf(board, word[1:], i+1, j) or self.dsf(board, word[1:], i-1, j) \\\n",
    "        or self.dsf(board, word[1:], i, j+1) or self.dsf(board, word[1:], i, j-1)\n",
    "        \n",
    "        board[i][j] = temp\n",
    "        \n",
    "        return res"
   ]
  },
  {
   "cell_type": "code",
   "execution_count": 54,
   "metadata": {},
   "outputs": [],
   "source": [
    "s = Solution()"
   ]
  },
  {
   "cell_type": "code",
   "execution_count": 55,
   "metadata": {},
   "outputs": [
    {
     "name": "stdout",
     "output_type": "stream",
     "text": [
      "True\n"
     ]
    }
   ],
   "source": [
    "print(s.exist(board, 'ASF'))"
   ]
  },
  {
   "cell_type": "code",
   "execution_count": 15,
   "metadata": {},
   "outputs": [],
   "source": [
    "def exist(board, word):\n",
    "    visited = []\n",
    "    return find(board, word, visited, 0, 0, 0)\n",
    "\n",
    "def find(board, word, visited, i, j, c):\n",
    "    visited.append((i, j))\n",
    "#     print(board[i][j])\n",
    "\n",
    "    if c == len(word):\n",
    "        return True\n",
    "    \n",
    "    if board[i][j] == word[c]:\n",
    "        print(board[i][j])\n",
    "        if i + 1 < len(board): find(board, word, visited, i+1, j, c+1)\n",
    "        if j + 1 < len(board[i]): find(board, word, visited, i, j+1, c+1)\n",
    "        if i > 1: find(board, word, visited, i-1, j, c+1)\n",
    "        if j > 1: find(board, word, visited, i, j-1, c+1)\n",
    "        \n",
    "    else:\n",
    "        if i + 1 < len(board) and (i+1, j) not in visited: find(board, word, visited, i+1, j, c)\n",
    "        if j + 1 < len(board[i]) and (i, j+1) not in visited: find(board, word, visited, i, j+1, c)\n",
    "        if i > 1 and (i-1, j) not in visited: find(board, word, visited, i-1, j, c)\n",
    "        if j > 1 and (i, j-1) not in visited: find(board, word, visited, i, j-1, c)"
   ]
  }
 ],
 "metadata": {
  "kernelspec": {
   "display_name": "Python 2",
   "language": "python",
   "name": "python2"
  },
  "language_info": {
   "codemirror_mode": {
    "name": "ipython",
    "version": 2
   },
   "file_extension": ".py",
   "mimetype": "text/x-python",
   "name": "python",
   "nbconvert_exporter": "python",
   "pygments_lexer": "ipython2",
   "version": "2.7.18"
  }
 },
 "nbformat": 4,
 "nbformat_minor": 2
}
