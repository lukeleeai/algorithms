{
 "cells": [
  {
   "cell_type": "markdown",
   "metadata": {},
   "source": [
    "https://leetcode.com/problems/search-a-2d-matrix-ii/"
   ]
  },
  {
   "cell_type": "markdown",
   "metadata": {},
   "source": [
    "### V2"
   ]
  },
  {
   "cell_type": "code",
   "execution_count": 94,
   "metadata": {},
   "outputs": [],
   "source": [
    "def searchMatrix(mat, targ):\n",
    "    j = -1\n",
    "    for row in mat:\n",
    "        while len(row) + j and row[j] > targ:\n",
    "            j -= 1\n",
    "        if row[j] == targ:\n",
    "            return True\n",
    "    return False"
   ]
  },
  {
   "cell_type": "markdown",
   "metadata": {},
   "source": [
    "### V1"
   ]
  },
  {
   "cell_type": "code",
   "execution_count": 89,
   "metadata": {},
   "outputs": [],
   "source": [
    "def searchMatrix(mat, targ):\n",
    "    for row in mat:\n",
    "        if row[-1] < targ:\n",
    "            continue\n",
    "        elif row[0] > targ:\n",
    "            return False\n",
    "        elif binarySearch(row, 0, len(row), targ):\n",
    "            return True\n",
    "    return False\n",
    "\n",
    "def binarySearch(nums, lo, hi, targ):\n",
    "    if lo < hi:\n",
    "        mid = (lo+hi)//2\n",
    "\n",
    "        if nums[mid] > targ:\n",
    "            return binarySearch(nums, lo, mid, targ)\n",
    "        elif nums[mid] < targ:\n",
    "            return binarySearch(nums, mid+1, hi, targ)\n",
    "        return True\n",
    "    return False"
   ]
  },
  {
   "cell_type": "code",
   "execution_count": 90,
   "metadata": {},
   "outputs": [],
   "source": [
    "mat = [\n",
    "  [1,   4,  7, 11, 15],\n",
    "  [2,   5,  8, 12, 19],\n",
    "  [3,   6,  9, 16, 22],\n",
    "  [10, 13, 14, 17, 24],\n",
    "  [18, 21, 23, 26, 30]\n",
    "]"
   ]
  },
  {
   "cell_type": "code",
   "execution_count": 91,
   "metadata": {},
   "outputs": [
    {
     "data": {
      "text/plain": [
       "True"
      ]
     },
     "execution_count": 91,
     "metadata": {},
     "output_type": "execute_result"
    }
   ],
   "source": [
    "searchMatrix(mat, 5)"
   ]
  }
 ],
 "metadata": {
  "kernelspec": {
   "display_name": "Python 3",
   "language": "python",
   "name": "python3"
  },
  "language_info": {
   "codemirror_mode": {
    "name": "ipython",
    "version": 3
   },
   "file_extension": ".py",
   "mimetype": "text/x-python",
   "name": "python",
   "nbconvert_exporter": "python",
   "pygments_lexer": "ipython3",
   "version": "3.7.7"
  }
 },
 "nbformat": 4,
 "nbformat_minor": 4
}
