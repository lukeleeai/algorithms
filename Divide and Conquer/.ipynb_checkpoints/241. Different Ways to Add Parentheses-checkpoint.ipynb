{
 "cells": [
  {
   "cell_type": "markdown",
   "metadata": {},
   "source": [
    "https://leetcode.com/problems/different-ways-to-add-parentheses/"
   ]
  },
  {
   "cell_type": "markdown",
   "metadata": {},
   "source": [
    "### V3 (DAC with Memoization & Operater Module)"
   ]
  },
  {
   "cell_type": "code",
   "execution_count": 73,
   "metadata": {},
   "outputs": [],
   "source": [
    "import operator"
   ]
  },
  {
   "cell_type": "code",
   "execution_count": 95,
   "metadata": {},
   "outputs": [],
   "source": [
    "class Solution():\n",
    "    def __init__(self):\n",
    "        self.ops = {\n",
    "            '+': operator.add,\n",
    "            '-': operator.sub,\n",
    "            '*': operator.mul,\n",
    "        }\n",
    "    \n",
    "    def diffWaysToCompute(self, input, memo={}):\n",
    "        if input.isnumeric():\n",
    "            return [int(input)]\n",
    "        if input in memo:\n",
    "            return memo[input]\n",
    "\n",
    "        res = []\n",
    "\n",
    "        for i in range(len(input)):\n",
    "            if input[i] in self.ops:\n",
    "                left = self.diffWaysToCompute(input[:i])\n",
    "                right = self.diffWaysToCompute(input[i+1:])\n",
    "                for l in left:\n",
    "                    for r in right:\n",
    "                        res += self.ops[input[i]](l, r),\n",
    "        return res"
   ]
  },
  {
   "cell_type": "code",
   "execution_count": 96,
   "metadata": {},
   "outputs": [
    {
     "data": {
      "text/plain": [
       "[74244,\n",
       " -446511,\n",
       " 74244,\n",
       " -522003,\n",
       " -522003,\n",
       " -72450,\n",
       " 448305,\n",
       " -76920,\n",
       " -72450,\n",
       " -237510,\n",
       " -237510,\n",
       " 657306,\n",
       " -388674,\n",
       " 657306]"
      ]
     },
     "execution_count": 96,
     "metadata": {},
     "output_type": "execute_result"
    }
   ],
   "source": [
    "sol = Solution()\n",
    "sol.diffWaysToCompute('1221-324+2235-323*234')"
   ]
  },
  {
   "cell_type": "markdown",
   "metadata": {},
   "source": [
    "### V2 (DAC)"
   ]
  },
  {
   "cell_type": "code",
   "execution_count": 54,
   "metadata": {},
   "outputs": [],
   "source": [
    "def diffWaysToCompute(input):\n",
    "    if input.isdigit():\n",
    "        return [int(input)]\n",
    "\n",
    "    res = []\n",
    "    ops = set(['*', '-', '+'])\n",
    "    \n",
    "    for i in range(len(input)):\n",
    "        if input[i] in ops:\n",
    "            res1 = diffWaysToCompute(input[:i])\n",
    "            res2 = diffWaysToCompute(input[i+1:])\n",
    "            \n",
    "            for a in res1:\n",
    "                for b in res2:\n",
    "                    res += helper(a, input[i], b),\n",
    "    return res\n",
    "\n",
    "def helper(a, op, b):\n",
    "    operation = F\"{a}{op}{b}\"\n",
    "    return eval(operation)"
   ]
  },
  {
   "cell_type": "code",
   "execution_count": 55,
   "metadata": {},
   "outputs": [
    {
     "data": {
      "text/plain": [
       "-20"
      ]
     },
     "execution_count": 55,
     "metadata": {},
     "output_type": "execute_result"
    }
   ],
   "source": [
    "a = 10\n",
    "op = \"-\"\n",
    "b = 30\n",
    "operation = F\"{a}{op}{b}\"\n",
    "eval(operation)"
   ]
  },
  {
   "cell_type": "code",
   "execution_count": 58,
   "metadata": {},
   "outputs": [],
   "source": [
    "s = \"2*13-40\""
   ]
  },
  {
   "cell_type": "code",
   "execution_count": 59,
   "metadata": {},
   "outputs": [
    {
     "data": {
      "text/plain": [
       "[-54, -14]"
      ]
     },
     "execution_count": 59,
     "metadata": {},
     "output_type": "execute_result"
    }
   ],
   "source": [
    "diffWaysToCompute(s)"
   ]
  },
  {
   "cell_type": "markdown",
   "metadata": {},
   "source": [
    "### V1"
   ]
  },
  {
   "cell_type": "markdown",
   "metadata": {},
   "source": [
    "I was stuck at manipulating the string and all that. But thanks to Discussions, I could find an easier way. This is way more intuitive and I think I just lacked a concrete understanding of this problem. Look at **V2**."
   ]
  },
  {
   "cell_type": "markdown",
   "metadata": {},
   "source": [
    "**eval** lets you run math operations from string"
   ]
  },
  {
   "cell_type": "code",
   "execution_count": 4,
   "metadata": {},
   "outputs": [
    {
     "data": {
      "text/plain": [
       "14"
      ]
     },
     "execution_count": 4,
     "metadata": {},
     "output_type": "execute_result"
    }
   ],
   "source": [
    "eval('2*(10-3)')"
   ]
  },
  {
   "cell_type": "code",
   "execution_count": 27,
   "metadata": {},
   "outputs": [],
   "source": [
    "# s = '2*13-4*5+3'\n",
    "s = '2*13-4'"
   ]
  },
  {
   "cell_type": "code",
   "execution_count": 29,
   "metadata": {},
   "outputs": [],
   "source": [
    "ops = set(['*', '-', '+'])"
   ]
  },
  {
   "cell_type": "code",
   "execution_count": 43,
   "metadata": {},
   "outputs": [
    {
     "name": "stdout",
     "output_type": "stream",
     "text": [
      "(2*13)-4\n",
      "2*1(3-4)\n"
     ]
    }
   ],
   "source": [
    "s = '2*13-4'\n",
    "start = 0\n",
    "op_cnt = 0\n",
    "n = len(s)\n",
    "\n",
    "for i in range(n):\n",
    "    if s[i] in ops:\n",
    "        op_cnt += 1\n",
    "        if op_cnt > 1:\n",
    "            print(addPar(s, start, i))\n",
    "            start = i - 1\n",
    "s = addPar(s, start, n)\n",
    "print(s)"
   ]
  },
  {
   "cell_type": "code",
   "execution_count": 30,
   "metadata": {},
   "outputs": [],
   "source": [
    "def addPar(s, start, end):\n",
    "    return s[:start] + '(' + s[start:end] + ')' + s[end:]"
   ]
  }
 ],
 "metadata": {
  "kernelspec": {
   "display_name": "Python 3",
   "language": "python",
   "name": "python3"
  },
  "language_info": {
   "codemirror_mode": {
    "name": "ipython",
    "version": 3
   },
   "file_extension": ".py",
   "mimetype": "text/x-python",
   "name": "python",
   "nbconvert_exporter": "python",
   "pygments_lexer": "ipython3",
   "version": "3.7.7"
  }
 },
 "nbformat": 4,
 "nbformat_minor": 4
}
