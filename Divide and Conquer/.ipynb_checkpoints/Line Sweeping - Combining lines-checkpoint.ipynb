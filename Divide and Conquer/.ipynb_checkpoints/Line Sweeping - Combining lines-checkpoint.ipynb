{
 "cells": [
  {
   "cell_type": "markdown",
   "metadata": {},
   "source": [
    "There are lines as the following:"
   ]
  },
  {
   "cell_type": "markdown",
   "metadata": {},
   "source": [
    "1111000011100000111111100111  \n",
    "1111111111100000111110001111  \n",
    "\n",
    "inputs:  \n",
    "$[[0,4],[0,10],[4,10],[13,29],[16,28]]$  \n",
    "output:  \n",
    "10 + 16 = 26\n"
   ]
  },
  {
   "cell_type": "markdown",
   "metadata": {},
   "source": [
    "Think of consecutive 1s as a lines. What's the total length of the lines if you consider the lines vertically close to each other as one?"
   ]
  },
  {
   "cell_type": "code",
   "execution_count": 2,
   "metadata": {},
   "outputs": [],
   "source": [
    "def totalLengths(lines):\n",
    "    l = r = -1\n",
    "    lengths = 0\n",
    "    for i in range(len(lines)):\n",
    "        if lines[i][0] <= r:\n",
    "            r = max(lines[i][1], r)\n",
    "        else:\n",
    "            # move to a new line\n",
    "            lengths += r - l\n",
    "            l, r = lines[i]\n",
    "    lengths += r - l\n",
    "    return lengths"
   ]
  },
  {
   "cell_type": "code",
   "execution_count": 3,
   "metadata": {},
   "outputs": [],
   "source": [
    "lines = [[0,4],[0,10],[4,10],[13,29],[16,28]]"
   ]
  },
  {
   "cell_type": "code",
   "execution_count": 4,
   "metadata": {},
   "outputs": [
    {
     "data": {
      "text/plain": [
       "26"
      ]
     },
     "execution_count": 4,
     "metadata": {},
     "output_type": "execute_result"
    }
   ],
   "source": [
    "totalLengths(lines)"
   ]
  }
 ],
 "metadata": {
  "kernelspec": {
   "display_name": "Python 3",
   "language": "python",
   "name": "python3"
  },
  "language_info": {
   "codemirror_mode": {
    "name": "ipython",
    "version": 3
   },
   "file_extension": ".py",
   "mimetype": "text/x-python",
   "name": "python",
   "nbconvert_exporter": "python",
   "pygments_lexer": "ipython3",
   "version": "3.7.7"
  }
 },
 "nbformat": 4,
 "nbformat_minor": 4
}
