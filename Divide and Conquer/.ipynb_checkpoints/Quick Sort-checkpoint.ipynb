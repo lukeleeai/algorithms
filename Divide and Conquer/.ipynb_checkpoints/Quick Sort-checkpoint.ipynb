{
 "cells": [
  {
   "cell_type": "markdown",
   "metadata": {},
   "source": [
    "### V2"
   ]
  },
  {
   "cell_type": "markdown",
   "metadata": {},
   "source": [
    "Partition 을 잘못 이해했음. Here, you move every element smaller than a pivot to its left. But we're not actually sorting the numbers. 그리고 partition 은 계속 이루어질 것이라는 것을 명심. Multiple elements whose vaule equals that of a pivot lead to an incomplete partition. But remember that they will also be partitioned soon. So, there's no problem for that!"
   ]
  },
  {
   "cell_type": "code",
   "execution_count": 164,
   "metadata": {},
   "outputs": [],
   "source": [
    "def partition(nums, lo, hi):\n",
    "    piv = nums[hi]  # pivot\n",
    "    i = lo-1  # the biggest index of elements smaller than the pivot\n",
    "    \n",
    "    for j in range(lo, hi-1):\n",
    "        if nums[j] < piv:\n",
    "            i += 1\n",
    "            nums[i], nums[j] = nums[j], nums[i]\n",
    "    # move piv to the right of smaller elements\n",
    "    i += 1\n",
    "    nums[i], nums[hi] = nums[hi], nums[i]\n",
    "    return i"
   ]
  },
  {
   "cell_type": "code",
   "execution_count": 165,
   "metadata": {},
   "outputs": [],
   "source": [
    "def quicksort(nums, lo, hi):\n",
    "    if lo < hi:\n",
    "        piv = partition(nums, lo, hi)\n",
    "        \n",
    "        quicksort(nums, lo, piv-1)\n",
    "        quicksort(nums, piv+1, hi)"
   ]
  },
  {
   "cell_type": "code",
   "execution_count": 166,
   "metadata": {},
   "outputs": [],
   "source": [
    "nums = [1, 2, 2, 2, 5, 2]"
   ]
  },
  {
   "cell_type": "code",
   "execution_count": 167,
   "metadata": {},
   "outputs": [],
   "source": [
    "quicksort(nums, 0, len(nums)-1)"
   ]
  },
  {
   "cell_type": "code",
   "execution_count": 168,
   "metadata": {},
   "outputs": [
    {
     "data": {
      "text/plain": [
       "[1, 2, 2, 2, 2, 5]"
      ]
     },
     "execution_count": 168,
     "metadata": {},
     "output_type": "execute_result"
    }
   ],
   "source": [
    "nums"
   ]
  },
  {
   "cell_type": "markdown",
   "metadata": {},
   "source": [
    "### V1"
   ]
  },
  {
   "cell_type": "code",
   "execution_count": 1,
   "metadata": {},
   "outputs": [],
   "source": [
    "def quickSort(nums):\n",
    "    if not nums:\n",
    "        return \n",
    "    pL, pH = piv(nums)"
   ]
  },
  {
   "cell_type": "code",
   "execution_count": 5,
   "metadata": {},
   "outputs": [],
   "source": [
    "def piv(nums):\n",
    "    pL = pH = -1\n",
    "    numSame = 0\n",
    "    for i in range(len(nums)-1):\n",
    "        if nums[i] < nums[-1]:\n",
    "            pL += 1\n",
    "        elif nums[i] == nums[-1]:\n",
    "            numSame += 1\n",
    "    pL = max(0, pL)\n",
    "    pH = pL + numSame\n",
    "    return (pL, pH)"
   ]
  },
  {
   "cell_type": "code",
   "execution_count": 6,
   "metadata": {},
   "outputs": [],
   "source": [
    "nums = [[1, 2, 3, 4], [4, -2, -3, 4], [5, 5, 5, 5, 6, 5]]"
   ]
  },
  {
   "cell_type": "code",
   "execution_count": 7,
   "metadata": {},
   "outputs": [
    {
     "name": "stdout",
     "output_type": "stream",
     "text": [
      "(2, 2)\n",
      "(1, 2)\n",
      "(0, 4)\n"
     ]
    }
   ],
   "source": [
    "for n in nums:\n",
    "    print(piv(n))"
   ]
  }
 ],
 "metadata": {
  "kernelspec": {
   "display_name": "Python 3",
   "language": "python",
   "name": "python3"
  },
  "language_info": {
   "codemirror_mode": {
    "name": "ipython",
    "version": 3
   },
   "file_extension": ".py",
   "mimetype": "text/x-python",
   "name": "python",
   "nbconvert_exporter": "python",
   "pygments_lexer": "ipython3",
   "version": "3.7.7"
  }
 },
 "nbformat": 4,
 "nbformat_minor": 2
}
