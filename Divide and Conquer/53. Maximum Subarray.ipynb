{
 "cells": [
  {
   "cell_type": "markdown",
   "metadata": {},
   "source": [
    "https://leetcode.com/problems/maximum-subarray/"
   ]
  },
  {
   "cell_type": "markdown",
   "metadata": {},
   "source": [
    "### Dynamic Programming"
   ]
  },
  {
   "cell_type": "code",
   "execution_count": 1,
   "metadata": {},
   "outputs": [],
   "source": [
    "from collections import defaultdict"
   ]
  },
  {
   "cell_type": "code",
   "execution_count": 8,
   "metadata": {},
   "outputs": [],
   "source": [
    "def maxSubArray(nums):\n",
    "    maxSum = nums[0]\n",
    "    dp = defaultdict(int)\n",
    "    \n",
    "    for i in range(len(nums)):\n",
    "        dp[i] = max(dp[i-1]+nums[i], nums[i])\n",
    "        maxSum = max(dp[i], maxSum)\n",
    "    return maxSum"
   ]
  },
  {
   "cell_type": "code",
   "execution_count": 13,
   "metadata": {},
   "outputs": [],
   "source": [
    "nums = [-2]"
   ]
  },
  {
   "cell_type": "code",
   "execution_count": 14,
   "metadata": {},
   "outputs": [
    {
     "data": {
      "text/plain": [
       "-2"
      ]
     },
     "execution_count": 14,
     "metadata": {},
     "output_type": "execute_result"
    }
   ],
   "source": [
    "maxSubArray(nums)"
   ]
  },
  {
   "cell_type": "markdown",
   "metadata": {},
   "source": [
    "### Kadane's Algorithm"
   ]
  },
  {
   "cell_type": "markdown",
   "metadata": {},
   "source": [
    "생각을 해보면 음수가 포함되는 시점부터 curMax 가 바뀌는 것이다. 그래서 중간 중간에 gMax 를 cMax 랑 비교해서 업데이트 해주고, cMax 는 0 아래로 되는 순간엔 정보를 날려버리고 새로운 정보를 추가한다"
   ]
  },
  {
   "cell_type": "code",
   "execution_count": 78,
   "metadata": {},
   "outputs": [],
   "source": [
    "def maxSubArray(nums):\n",
    "    lMax = gMax = -float('inf')\n",
    "    for i in range(0, len(nums)):\n",
    "        lMax = max(lMax, 0) + nums[i]\n",
    "        gMax = max(lMax, gMax)\n",
    "    return gMax"
   ]
  },
  {
   "cell_type": "code",
   "execution_count": 84,
   "metadata": {},
   "outputs": [],
   "source": [
    "def maxSubArray(nums):\n",
    "    for i in range(1, len(nums)):\n",
    "        if nums[i-1] > 0:\n",
    "            nums[i] += nums[i-1]\n",
    "    return max(nums)"
   ]
  },
  {
   "cell_type": "code",
   "execution_count": 85,
   "metadata": {},
   "outputs": [],
   "source": [
    "nums = [-2, 10, -5, 50]"
   ]
  },
  {
   "cell_type": "code",
   "execution_count": 86,
   "metadata": {},
   "outputs": [
    {
     "data": {
      "text/plain": [
       "55"
      ]
     },
     "execution_count": 86,
     "metadata": {},
     "output_type": "execute_result"
    }
   ],
   "source": [
    "maxSubArray(nums)"
   ]
  },
  {
   "cell_type": "markdown",
   "metadata": {},
   "source": [
    "### DAC (failed)"
   ]
  },
  {
   "cell_type": "code",
   "execution_count": 62,
   "metadata": {},
   "outputs": [],
   "source": [
    "def maxSubArray(nums):\n",
    "    gMax = [-float('inf')]\n",
    "    return lMax(nums, gMax)\n",
    "    \n",
    "def lMax(nums):\n",
    "    leftSum = 0\n",
    "    negIdx = -1\n",
    "    n = len(nums)\n",
    "    \n",
    "    for i in range(n):\n",
    "        if nums[i] < 0:\n",
    "            negIdx = i\n",
    "            break\n",
    "        leftSum += nums[i]\n",
    "    \n",
    "    if negIdx == -1:\n",
    "        print(nums[:negIdx])\n",
    "        return leftSum\n",
    "        \n",
    "    rightMax = maxSubArray(nums[negIdx+1:])\n",
    "    lMax = max(leftSum, leftSum+nums[negIdx]+rightMax, rightMax)\n",
    "    print('nums: ', nums, 'nums[:negIdx]: ', nums[:negIdx], 'neg: ', nums[negIdx], 'maxSum: ', maxSum)\n",
    "    return maxSum"
   ]
  },
  {
   "cell_type": "code",
   "execution_count": 63,
   "metadata": {},
   "outputs": [
    {
     "name": "stdout",
     "output_type": "stream",
     "text": [
      "[]\n",
      "nums:  [-3] nums[:negIdx]:  [] neg:  -3 maxSum:  0\n",
      "nums:  [4, -2, -3] nums[:negIdx]:  [4] neg:  -2 maxSum:  4\n",
      "nums:  [2, 1, -5, 4, -2, -3] nums[:negIdx]:  [2, 1] neg:  -5 maxSum:  4\n",
      "nums:  [4, -1, 2, 1, -5, 4, -2, -3] nums[:negIdx]:  [4] neg:  -1 maxSum:  7\n",
      "nums:  [1, -3, 4, -1, 2, 1, -5, 4, -2, -3] nums[:negIdx]:  [1] neg:  -3 maxSum:  7\n",
      "nums:  [-2, 1, -3, 4, -1, 2, 1, -5, 4, -2, -3] nums[:negIdx]:  [] neg:  -2 maxSum:  7\n"
     ]
    },
    {
     "data": {
      "text/plain": [
       "7"
      ]
     },
     "execution_count": 63,
     "metadata": {},
     "output_type": "execute_result"
    }
   ],
   "source": [
    "nums = [-2,1,-3,4,-1,2,1,-5,4, -2, -3]\n",
    "maxSubArray(nums)"
   ]
  },
  {
   "cell_type": "code",
   "execution_count": null,
   "metadata": {},
   "outputs": [],
   "source": []
  }
 ],
 "metadata": {
  "kernelspec": {
   "display_name": "Python 3",
   "language": "python",
   "name": "python3"
  },
  "language_info": {
   "codemirror_mode": {
    "name": "ipython",
    "version": 3
   },
   "file_extension": ".py",
   "mimetype": "text/x-python",
   "name": "python",
   "nbconvert_exporter": "python",
   "pygments_lexer": "ipython3",
   "version": "3.7.7"
  }
 },
 "nbformat": 4,
 "nbformat_minor": 4
}
