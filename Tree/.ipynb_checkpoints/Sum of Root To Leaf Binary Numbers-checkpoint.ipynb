{
 "cells": [
  {
   "cell_type": "markdown",
   "metadata": {},
   "source": [
    "https://leetcode.com/explore/challenge/card/september-leetcoding-challenge/555/week-2-september-8th-september-14th/3453/"
   ]
  },
  {
   "cell_type": "code",
   "execution_count": 5,
   "metadata": {},
   "outputs": [],
   "source": [
    "class Node(object):\n",
    "    def __init__(self, val=0, left=None, right=None):\n",
    "        self.val = val\n",
    "        self.left = left\n",
    "        self.right = right"
   ]
  },
  {
   "cell_type": "code",
   "execution_count": 51,
   "metadata": {},
   "outputs": [],
   "source": [
    "def sumRootToLeaf(root):\n",
    "    lSum = binary(root.val, root.left)\n",
    "    rSum = binary(root.val, root.right)\n",
    "    return max(lSum + rSum, root.val)\n",
    "    \n",
    "def binary(par, root):\n",
    "    if not root:\n",
    "        return 0\n",
    "    \n",
    "    if not (root.left or root.right):\n",
    "        return par*2 + root.val\n",
    "    \n",
    "    lSum = binary(par*2+root.val, root.left)\n",
    "    rSum = binary(par*2+root.val, root.right)\n",
    "\n",
    "    return lSum + rSum"
   ]
  },
  {
   "cell_type": "code",
   "execution_count": 59,
   "metadata": {},
   "outputs": [],
   "source": [
    "root = Node(1, Node(0, Node(0), Node(1)), Node(1, Node(0), Node(1)))"
   ]
  },
  {
   "cell_type": "code",
   "execution_count": 53,
   "metadata": {},
   "outputs": [],
   "source": [
    "root = Node(1)"
   ]
  },
  {
   "cell_type": "code",
   "execution_count": 54,
   "metadata": {},
   "outputs": [
    {
     "data": {
      "text/plain": [
       "1"
      ]
     },
     "execution_count": 54,
     "metadata": {},
     "output_type": "execute_result"
    }
   ],
   "source": [
    "sumRootToLeaf(root)"
   ]
  },
  {
   "cell_type": "code",
   "execution_count": 62,
   "metadata": {},
   "outputs": [],
   "source": [
    "def stack(root):\n",
    "    root_to_leaf = 0\n",
    "    stack = [(root, 0)]\n",
    "    \n",
    "    while stack:\n",
    "        root, cur_num = stack.pop()\n",
    "        if root:\n",
    "            cur_num = (cur_num << 1) | root.val\n",
    "            \n",
    "            print(root.val, cur_num)\n",
    "            \n",
    "            if not (root.left or root.right):\n",
    "                root_to_leaf += cur_num\n",
    "            else:\n",
    "                stack += (root.right, cur_num),\n",
    "                stack += (root.left, cur_num),\n",
    "    return root_to_leaf"
   ]
  },
  {
   "cell_type": "code",
   "execution_count": 63,
   "metadata": {},
   "outputs": [
    {
     "name": "stdout",
     "output_type": "stream",
     "text": [
      "(1, 1)\n",
      "(0, 2)\n",
      "(0, 4)\n",
      "(1, 5)\n",
      "(1, 3)\n",
      "(0, 6)\n",
      "(1, 7)\n"
     ]
    },
    {
     "data": {
      "text/plain": [
       "22"
      ]
     },
     "execution_count": 63,
     "metadata": {},
     "output_type": "execute_result"
    }
   ],
   "source": [
    "stack(root)"
   ]
  },
  {
   "cell_type": "code",
   "execution_count": null,
   "metadata": {},
   "outputs": [],
   "source": []
  },
  {
   "cell_type": "code",
   "execution_count": null,
   "metadata": {},
   "outputs": [],
   "source": []
  }
 ],
 "metadata": {
  "kernelspec": {
   "display_name": "Python 2",
   "language": "python",
   "name": "python2"
  },
  "language_info": {
   "codemirror_mode": {
    "name": "ipython",
    "version": 2
   },
   "file_extension": ".py",
   "mimetype": "text/x-python",
   "name": "python",
   "nbconvert_exporter": "python",
   "pygments_lexer": "ipython2",
   "version": "2.7.18"
  }
 },
 "nbformat": 4,
 "nbformat_minor": 2
}
