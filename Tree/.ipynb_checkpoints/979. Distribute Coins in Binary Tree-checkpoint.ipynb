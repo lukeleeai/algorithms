{
 "cells": [
  {
   "cell_type": "markdown",
   "metadata": {},
   "source": [
    "https://leetcode.com/problems/distribute-coins-in-binary-tree/"
   ]
  },
  {
   "cell_type": "markdown",
   "metadata": {},
   "source": [
    "https://leetcode.com/problems/distribute-coins-in-binary-tree/discuss/221930/JavaC%2B%2BPython-Recursive-Solution discussion을 참고함. DFS 를 통해 leaf 까지 도달한 후, 거기서부터 정렬을 시작한다. leaf 자체는 값을 바꿀 필요가 없고, 위 parent 만 바꿔준다. 자신의 1만 남겨놓고 나머지 값은 root.val - 1 을 통해 위로 보내준다. 만약 root.val = 1이라면 당연히 값을 올릴 필요가 없고, root.val = 0이라면 parent 에게서 1을 뺏어온다. 그리고 res + abs(root.val - 1)을 해주면 root.val의 나머지 값을 parent 로 올려주는 횟수를 간단하게 구할 수 있다. 문제를 처음에 너무 어렵게 생각했었는데 다음부터는 leaf 에 도달했을 때 그 left, parent, right 세 개만 고려해보자. 그리고 노드 하나랑 parent 사이의 관계만 신경써도 됐었다."
   ]
  },
  {
   "cell_type": "code",
   "execution_count": 1,
   "metadata": {},
   "outputs": [],
   "source": [
    "def distributeCoins(root, parent=None):\n",
    "    if root == None:\n",
    "        return 0\n",
    "    res = distributeCoins(root.left, root) + distributeCoins(root.right, root)\n",
    "    if parent: parent.val += root.val -1\n",
    "    return res + abs(root.val - 1)"
   ]
  },
  {
   "cell_type": "code",
   "execution_count": 2,
   "metadata": {},
   "outputs": [],
   "source": [
    "class TreeNode(object):\n",
    "    def __init__(self, val=0, left=None, right=None):\n",
    "        self.val = val\n",
    "        self.left = left\n",
    "        self.right = right"
   ]
  },
  {
   "cell_type": "code",
   "execution_count": 3,
   "metadata": {},
   "outputs": [],
   "source": [
    "t = TreeNode(0)\n",
    "t.left = TreeNode(2)\n",
    "t.right = TreeNode(0)\n",
    "t.left.left = TreeNode(2)\n",
    "t.left.right = TreeNode(0)"
   ]
  },
  {
   "cell_type": "code",
   "execution_count": 4,
   "metadata": {},
   "outputs": [
    {
     "data": {
      "text/plain": [
       "5"
      ]
     },
     "execution_count": 4,
     "metadata": {},
     "output_type": "execute_result"
    }
   ],
   "source": [
    "distributeCoins(t)"
   ]
  }
 ],
 "metadata": {
  "kernelspec": {
   "display_name": "Python 2",
   "language": "python",
   "name": "python2"
  },
  "language_info": {
   "codemirror_mode": {
    "name": "ipython",
    "version": 2
   },
   "file_extension": ".py",
   "mimetype": "text/x-python",
   "name": "python",
   "nbconvert_exporter": "python",
   "pygments_lexer": "ipython2",
   "version": "2.7.18"
  }
 },
 "nbformat": 4,
 "nbformat_minor": 2
}
