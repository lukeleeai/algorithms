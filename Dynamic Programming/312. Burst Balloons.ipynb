{
 "cells": [
  {
   "cell_type": "markdown",
   "metadata": {},
   "source": [
    "# Burst Balloons"
   ]
  },
  {
   "cell_type": "markdown",
   "metadata": {},
   "source": [
    "https://leetcode.com/problems/burst-balloons/"
   ]
  },
  {
   "cell_type": "markdown",
   "metadata": {},
   "source": [
    "Given n balloons, indexed from 0 to n-1. Each balloon is painted with a number on it represented by array nums. You are asked to burst all the balloons. If the you burst balloon i you will get nums[left] * nums[i] * nums[right] coins. Here left and right are adjacent indices of i. After the burst, the left and right then becomes adjacent.\n",
    "\n",
    "Find the maximum coins you can collect by bursting the balloons wisely.\n",
    "\n",
    "Note:\n",
    "\n",
    "You may imagine nums[-1] = nums[n] = 1. They are not real therefore you can not burst them.\n",
    "0 ≤ n ≤ 500, 0 ≤ nums[i] ≤ 100\n",
    "Example:\n",
    "\n",
    "Input: [3,1,5,8]\n",
    "Output: 167 \n",
    "Explanation: nums = [3,1,5,8] --> [3,5,8] -->   [3,8]   -->  [8]  --> []\n",
    "             coins =  3*1*5      +  3*5*8    +  1*3*8      + 1*8*1   = 167"
   ]
  },
  {
   "cell_type": "markdown",
   "metadata": {},
   "source": [
    "## Solution"
   ]
  },
  {
   "cell_type": "markdown",
   "metadata": {},
   "source": [
    "At first, with [1 a b c d e 1] I tried increasing the window size from the start. For example, it considers [1, a], then [1, a, b], [1, a, b, c], and so on. Then, I realized that each time I expand the window, it encounters new character that introduces other multiple possible combinations to consider. We need a different approach."
   ]
  },
  {
   "cell_type": "markdown",
   "metadata": {},
   "source": [
    "**Reverse Thinking** is all we need. My approach was based on the premise that I have to consider which balloon to burst \"first.\" Yet the real problem lies in the next round that introduces other variables. So what if we decide which balloon $i$ to burst \"last?\" Then, we can for sure divide this problem into two subsets that surrounds the balloon $i$ and that don't affect each other! From this idea, we can continue on solving this problem using dynamic programming that starts from bottom to top."
   ]
  },
  {
   "cell_type": "markdown",
   "metadata": {},
   "source": [
    "**dp** stores max values that correspond to the combination of **left** and **right**. You can think of **k** as a window size and **i** as the last balloon to burst. "
   ]
  },
  {
   "cell_type": "code",
   "execution_count": 5,
   "metadata": {},
   "outputs": [],
   "source": [
    "from collections import defaultdict"
   ]
  },
  {
   "cell_type": "code",
   "execution_count": 24,
   "metadata": {},
   "outputs": [],
   "source": [
    "def maxCoins(nums):\n",
    "    nums = [1] + filter(lambda n: n>0, nums) + [1]\n",
    "    n = len(nums)\n",
    "    dp = defaultdict(lambda: defaultdict(int))\n",
    "    \n",
    "    for k in xrange(2, n): # window size\n",
    "        for left in xrange(0, n-k):\n",
    "            right = left + k\n",
    "            for i in xrange(left+1, right):\n",
    "                dp[left][right] = max(dp[left][right], \\\n",
    "                                     nums[left]*nums[i]*nums[right] + dp[left][i] + dp[i][right])\n",
    "    return dp[0][n-1]"
   ]
  },
  {
   "cell_type": "code",
   "execution_count": 25,
   "metadata": {},
   "outputs": [
    {
     "data": {
      "text/plain": [
       "164"
      ]
     },
     "execution_count": 25,
     "metadata": {},
     "output_type": "execute_result"
    }
   ],
   "source": [
    "maxCoins([3, 1, 8, 5])"
   ]
  }
 ],
 "metadata": {
  "kernelspec": {
   "display_name": "Python 2",
   "language": "python",
   "name": "python2"
  },
  "language_info": {
   "codemirror_mode": {
    "name": "ipython",
    "version": 2
   },
   "file_extension": ".py",
   "mimetype": "text/x-python",
   "name": "python",
   "nbconvert_exporter": "python",
   "pygments_lexer": "ipython2",
   "version": "2.7.18"
  }
 },
 "nbformat": 4,
 "nbformat_minor": 2
}
