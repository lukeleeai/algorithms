{
 "cells": [
  {
   "cell_type": "markdown",
   "metadata": {},
   "source": [
    "### Solution"
   ]
  },
  {
   "cell_type": "markdown",
   "metadata": {},
   "source": [
    "When approaching string problems, I fall into the trap of deluding myself that a computer can distinguish words like I do. It's ocassionaly more convenient to tackle the problems by dividing a string into characters. It's necessary to check every possible combination of characters.  \n",
    "  \n",
    "When reading codes, you have to understand what each variable is for.  \n",
    "  \n",
    "Considering what makes valid parameters first might be helpful too. There are various situations that are invalid, but only one for that is valid."
   ]
  },
  {
   "cell_type": "markdown",
   "metadata": {},
   "source": [
    "### V1"
   ]
  },
  {
   "cell_type": "code",
   "execution_count": 228,
   "metadata": {},
   "outputs": [],
   "source": [
    "def solution(s, wordDict):\n",
    "    ok = [True]\n",
    "    for i in range(1,len(s)+1):\n",
    "        ok += any(ok[j] and s[j:i] in wordDict for j in range(i)),\n",
    "    print(ok)\n",
    "    return ok[-1]"
   ]
  },
  {
   "cell_type": "markdown",
   "metadata": {},
   "source": [
    "### V2"
   ]
  },
  {
   "cell_type": "markdown",
   "metadata": {},
   "source": [
    "1. If you know the maximum length of words in wordDict, you can start from max(0, i-max_word_len).  \n",
    "2. ```word in set(wordDict)```: $O(N)$"
   ]
  },
  {
   "cell_type": "code",
   "execution_count": 257,
   "metadata": {},
   "outputs": [],
   "source": [
    "def solution(s, wordDict):\n",
    "    ok = [True]  # T/F for s[~i]\n",
    "    max_word_len = max(map(len, wordDict+['']))  # get a max len in wordDict\n",
    "    wordSet = set(wordDict)  # to achieve O(1) when looking up a word\n",
    "    \n",
    "    for i in range(1, len(s)+1):\n",
    "        ok += any(ok[j] and s[j:i] in wordSet for j in range(max(0, i-max_word_len), i)),\n",
    "    return ok[-1]"
   ]
  },
  {
   "cell_type": "markdown",
   "metadata": {},
   "source": [
    "e.g. **pine|apple|pen**  \n",
    "You can see that every word sticks to each other with no overlapping characters like a set of blocks. If there is another character in the string (pine|a|apple|pen, for example) the algorithm below can detect there's no valid word when $i=5$. When $i$ reaches $11$, the algorithm find that *apple* is valid *and* $ok[j]=False$ as $j=4.$ Thus, $ok[i]=False$"
   ]
  },
  {
   "cell_type": "markdown",
   "metadata": {},
   "source": [
    "### V3"
   ]
  },
  {
   "cell_type": "code",
   "execution_count": 241,
   "metadata": {},
   "outputs": [],
   "source": [
    "def solution(s, wordDict):\n",
    "    ok = [True]\n",
    "    for i in range(1, len(s)+1):\n",
    "        ok += any(ok[j] and s[j:i] for j in range(i))\n",
    "    return ok[-1]"
   ]
  },
  {
   "cell_type": "code",
   "execution_count": 238,
   "metadata": {},
   "outputs": [],
   "source": [
    "s1 = 'catsandog'\n",
    "wordDict1 = [\"cats\", \"dog\", \"sand\", \"and\", \"cat\"]"
   ]
  },
  {
   "cell_type": "code",
   "execution_count": 239,
   "metadata": {},
   "outputs": [
    {
     "data": {
      "text/plain": [
       "True"
      ]
     },
     "execution_count": 239,
     "metadata": {},
     "output_type": "execute_result"
    }
   ],
   "source": [
    "solution(s1, wordDict1)"
   ]
  },
  {
   "cell_type": "markdown",
   "metadata": {},
   "source": [
    "### Attempt 1"
   ]
  },
  {
   "cell_type": "code",
   "execution_count": 28,
   "metadata": {},
   "outputs": [],
   "source": [
    "def wordBreak(s, wordDict):\n",
    "    num = 0\n",
    "    \n",
    "    for w in wordDict:\n",
    "        for i in range(len(s)-len(w)+1):\n",
    "            print(s[i:i+len(w)])\n",
    "            if s[i:i+len(w)] == w:\n",
    "                num += len(w)\n",
    "    \n",
    "    return num == len(s)"
   ]
  },
  {
   "cell_type": "markdown",
   "metadata": {},
   "source": [
    "### Attempt 2"
   ]
  },
  {
   "cell_type": "code",
   "execution_count": 193,
   "metadata": {},
   "outputs": [],
   "source": [
    "def wordBreak(s, wordDict):\n",
    "    if not wordDict: return 1\n",
    "    w = wordDict.pop()\n",
    "    start = 0\n",
    "    end = len(s)-len(w)\n",
    "    res = True\n",
    "\n",
    "    for i in range(end+1):\n",
    "        if s[i:i+len(w)] == w:\n",
    "            if i != 0:\n",
    "                print('current s: ', s, w, s[start:i])\n",
    "                res *= wordBreak(s[start:i], wordDict)\n",
    "            start = i+len(w)\n",
    "        elif i == end:\n",
    "            print('current s: ', s, w, s[start:])\n",
    "            res *= wordBreak(s[start:], wordDict)\n",
    "    return res"
   ]
  },
  {
   "cell_type": "code",
   "execution_count": 197,
   "metadata": {},
   "outputs": [],
   "source": [
    "s1 = 'pineapple'\n",
    "wordDict1 = ['pine', 'apple']"
   ]
  },
  {
   "cell_type": "code",
   "execution_count": 198,
   "metadata": {},
   "outputs": [],
   "source": [
    "s2 = 'catsanddogs'\n",
    "wordDict2 = ['cats', 'sand', 'dogs', 'dog', 'and']"
   ]
  },
  {
   "cell_type": "code",
   "execution_count": 199,
   "metadata": {},
   "outputs": [
    {
     "name": "stdout",
     "output_type": "stream",
     "text": [
      "('current s: ', 'catsanddogs', 'and', 'cats')\n",
      "('current s: ', 'cats', 'dog', 'cats')\n",
      "('current s: ', 'cats', 'dogs', 'cats')\n",
      "('current s: ', 'cats', 'sand', 'cats')\n",
      "('current s: ', 'catsanddogs', 'and', 'dogs')\n"
     ]
    },
    {
     "data": {
      "text/plain": [
       "1"
      ]
     },
     "execution_count": 199,
     "metadata": {},
     "output_type": "execute_result"
    }
   ],
   "source": [
    "wordBreak(s2, wordDict2)"
   ]
  },
  {
   "cell_type": "code",
   "execution_count": 64,
   "metadata": {},
   "outputs": [],
   "source": [
    "s = 'doganddoghahaha'"
   ]
  },
  {
   "cell_type": "code",
   "execution_count": 75,
   "metadata": {},
   "outputs": [
    {
     "name": "stdout",
     "output_type": "stream",
     "text": [
      "and\n",
      "hahaha\n"
     ]
    }
   ],
   "source": [
    "start = 0\n",
    "end = len(s)-len(w)\n",
    "w = 'dog'\n",
    "for i in range(end+1):\n",
    "    if s[i:i+3] == w:\n",
    "        if i != 0:\n",
    "            print s[start:i]\n",
    "        start = i+len(w)\n",
    "    elif i == end:\n",
    "        print(s[start:])"
   ]
  },
  {
   "cell_type": "code",
   "execution_count": null,
   "metadata": {},
   "outputs": [],
   "source": []
  },
  {
   "cell_type": "code",
   "execution_count": null,
   "metadata": {},
   "outputs": [],
   "source": []
  },
  {
   "cell_type": "code",
   "execution_count": null,
   "metadata": {},
   "outputs": [],
   "source": []
  },
  {
   "cell_type": "code",
   "execution_count": null,
   "metadata": {},
   "outputs": [],
   "source": []
  },
  {
   "cell_type": "code",
   "execution_count": 31,
   "metadata": {},
   "outputs": [
    {
     "name": "stdout",
     "output_type": "stream",
     "text": [
      "pine\n",
      "inea\n",
      "neap\n",
      "eapp\n",
      "appl\n",
      "pple\n",
      "pinea\n",
      "ineap\n",
      "neapp\n",
      "eappl\n",
      "apple\n"
     ]
    },
    {
     "data": {
      "text/plain": [
       "True"
      ]
     },
     "execution_count": 31,
     "metadata": {},
     "output_type": "execute_result"
    }
   ],
   "source": [
    "wordBreak(s1, wordDict1)"
   ]
  },
  {
   "cell_type": "code",
   "execution_count": null,
   "metadata": {},
   "outputs": [],
   "source": []
  },
  {
   "cell_type": "code",
   "execution_count": null,
   "metadata": {},
   "outputs": [],
   "source": []
  }
 ],
 "metadata": {
  "kernelspec": {
   "display_name": "Python 2",
   "language": "python",
   "name": "python2"
  },
  "language_info": {
   "codemirror_mode": {
    "name": "ipython",
    "version": 2
   },
   "file_extension": ".py",
   "mimetype": "text/x-python",
   "name": "python",
   "nbconvert_exporter": "python",
   "pygments_lexer": "ipython2",
   "version": "2.7.18"
  }
 },
 "nbformat": 4,
 "nbformat_minor": 2
}
