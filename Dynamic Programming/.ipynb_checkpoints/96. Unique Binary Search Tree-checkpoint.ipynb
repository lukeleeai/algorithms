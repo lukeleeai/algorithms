{
 "cells": [
  {
   "cell_type": "markdown",
   "metadata": {},
   "source": [
    "https://leetcode.com/problems/unique-binary-search-trees/"
   ]
  },
  {
   "cell_type": "markdown",
   "metadata": {},
   "source": [
    "https://leetcode.com/problems/unique-binary-search-trees/discuss/31666/DP-Solution-in-6-lines-with-explanation.-F(i-n)-G(i-1)-*-G(n-i)"
   ]
  },
  {
   "cell_type": "markdown",
   "metadata": {},
   "source": [
    "### Binary Search Tree  \n",
    "BST puts values smaller than the root left to it and the other way round. Thus, you can think of what it means to be \"structually unique.\""
   ]
  },
  {
   "cell_type": "markdown",
   "metadata": {},
   "source": [
    "### Solution  \n",
    "$$G(N) = \\sum_{i=1}^n\\,F(i,N)$$  \n",
    "where G(N) = the number of possible unique structures given N and F(i, N) = that with given i as a root  \n",
    "  \n",
    "$$F(i,N) = G(i-1) * G(N-i)$$  \n",
    "\n",
    "Thus,  \n",
    "  \n",
    "$$G(N) = G(0)G(N-1) + G(1)G(N-2) + ... + G(N-2)G(1) + G(N-1)G(0)$$\n",
    "\n",
    "And we can speed this up by utilizing the face that most of these G(i-1)G(N-1) are duplicated twice.  \n",
    "  \n",
    "Thus,\n",
    "$$G(N) = 2 * \\{G(0)G(N-1) + G(1)G(N-2) + ... + G(\\frac{N}{2})G(\\frac{N}{2}-1)\\}$$"
   ]
  },
  {
   "cell_type": "markdown",
   "metadata": {},
   "source": [
    "### Code"
   ]
  },
  {
   "cell_type": "markdown",
   "metadata": {},
   "source": [
    "With defaultdict, you can set a value of every key as 0. This means that you can use += to any keys you haven't initialized manually!"
   ]
  },
  {
   "cell_type": "code",
   "execution_count": 10,
   "metadata": {},
   "outputs": [],
   "source": [
    "from collections import defaultdict"
   ]
  },
  {
   "cell_type": "markdown",
   "metadata": {},
   "source": [
    "The algorithm below speeds up the calculation by multiplying the duplicated Gs by two."
   ]
  },
  {
   "cell_type": "code",
   "execution_count": 130,
   "metadata": {},
   "outputs": [],
   "source": [
    "def numTrees(n):\n",
    "    G = defaultdict(int)\n",
    "    G[0] = G[1] = 1\n",
    "    \n",
    "    for i in range(2, n+1):\n",
    "        mid = i//2\n",
    "        for j in range(1, mid+1):\n",
    "            G[i] += 2 * G[j-1] * G[i-j]\n",
    "        if i%2:  # if odd\n",
    "            G[i] += G[mid] * G[mid]\n",
    "    return G[n]"
   ]
  },
  {
   "cell_type": "code",
   "execution_count": 131,
   "metadata": {},
   "outputs": [
    {
     "data": {
      "text/plain": [
       "2046105521468021692642519982997827217179245642339057975844538099572176010191891863964968026156453752449015750569428595097318163634370154637380666882886375203359653243390929717431080443509007504772912973142253209352126946839844796747697638537600100637918819326569730982083021538057087711176285777909275869648636874856805956580057673173655666887003493944650164153396910927037406301799052584663611016897272893305532116292143271037140718751625839812072682464343153792956281748582435751481498598087586998603921577523657477775758899987954012641033870640665444651660246024318184109046864244732001962029120L"
      ]
     },
     "execution_count": 131,
     "metadata": {},
     "output_type": "execute_result"
    }
   ],
   "source": [
    "numTrees(1000)"
   ]
  },
  {
   "cell_type": "markdown",
   "metadata": {},
   "source": [
    "The code below is a default solution provided at Discussion section"
   ]
  },
  {
   "cell_type": "code",
   "execution_count": 85,
   "metadata": {},
   "outputs": [],
   "source": [
    "def numTrees(n):\n",
    "    G = defaultdict(int)\n",
    "    G[0] = G[1] = 1\n",
    "    \n",
    "    for i in range(2, n+1):\n",
    "        for j in range(1, i+1):\n",
    "            G[i] += G[j-1] * G[i-j]\n",
    "    return G[n]"
   ]
  },
  {
   "cell_type": "code",
   "execution_count": 87,
   "metadata": {},
   "outputs": [
    {
     "data": {
      "text/plain": [
       "42"
      ]
     },
     "execution_count": 87,
     "metadata": {},
     "output_type": "execute_result"
    }
   ],
   "source": [
    "numTrees(5)"
   ]
  },
  {
   "cell_type": "markdown",
   "metadata": {},
   "source": [
    "### Recursive approach"
   ]
  },
  {
   "cell_type": "code",
   "execution_count": 119,
   "metadata": {},
   "outputs": [],
   "source": [
    "def numTrees(n):\n",
    "    return trees(1, n)\n",
    "\n",
    "def trees(lo, hi):\n",
    "    if lo >= hi: return 1\n",
    "    total = 0\n",
    "    for i in range(lo, hi+1):\n",
    "        total += trees(lo, i-1) * trees(i+1, hi)\n",
    "    return total"
   ]
  },
  {
   "cell_type": "code",
   "execution_count": 128,
   "metadata": {},
   "outputs": [
    {
     "data": {
      "text/plain": [
       "2046105521468021692642519982997827217179245642339057975844538099572176010191891863964968026156453752449015750569428595097318163634370154637380666882886375203359653243390929717431080443509007504772912973142253209352126946839844796747697638537600100637918819326569730982083021538057087711176285777909275869648636874856805956580057673173655666887003493944650164153396910927037406301799052584663611016897272893305532116292143271037140718751625839812072682464343153792956281748582435751481498598087586998603921577523657477775758899987954012641033870640665444651660246024318184109046864244732001962029120L"
      ]
     },
     "execution_count": 128,
     "metadata": {},
     "output_type": "execute_result"
    }
   ],
   "source": [
    "numTrees(1000)"
   ]
  }
 ],
 "metadata": {
  "kernelspec": {
   "display_name": "Python 2",
   "language": "python",
   "name": "python2"
  },
  "language_info": {
   "codemirror_mode": {
    "name": "ipython",
    "version": 2
   },
   "file_extension": ".py",
   "mimetype": "text/x-python",
   "name": "python",
   "nbconvert_exporter": "python",
   "pygments_lexer": "ipython2",
   "version": "2.7.18"
  }
 },
 "nbformat": 4,
 "nbformat_minor": 2
}
