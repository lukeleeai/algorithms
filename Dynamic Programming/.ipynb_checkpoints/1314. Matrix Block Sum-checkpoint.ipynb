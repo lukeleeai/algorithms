{
 "cells": [
  {
   "cell_type": "code",
   "execution_count": 29,
   "metadata": {},
   "outputs": [],
   "source": [
    "mat = [[1,2,3],[4,5,6],[7,8,9]]"
   ]
  },
  {
   "cell_type": "markdown",
   "metadata": {},
   "source": [
    "### V1"
   ]
  },
  {
   "cell_type": "code",
   "execution_count": 11,
   "metadata": {},
   "outputs": [],
   "source": [
    "i, j = 0, 0\n",
    "K = 1"
   ]
  },
  {
   "cell_type": "code",
   "execution_count": 12,
   "metadata": {},
   "outputs": [],
   "source": [
    "def isValid(i, j, w, h):\n",
    "    return i>=0 and j>=0 and i<w and j<h"
   ]
  },
  {
   "cell_type": "code",
   "execution_count": 13,
   "metadata": {},
   "outputs": [],
   "source": [
    "w = len(mat[0])\n",
    "h = len(mat)"
   ]
  },
  {
   "cell_type": "code",
   "execution_count": 65,
   "metadata": {},
   "outputs": [],
   "source": [
    "K = 1"
   ]
  },
  {
   "cell_type": "code",
   "execution_count": 66,
   "metadata": {},
   "outputs": [
    {
     "data": {
      "text/plain": [
       "[-1, 0, 1]"
      ]
     },
     "execution_count": 66,
     "metadata": {},
     "output_type": "execute_result"
    }
   ],
   "source": [
    "k_range = range(-K, K+1)\n",
    "k_range"
   ]
  },
  {
   "cell_type": "code",
   "execution_count": 74,
   "metadata": {},
   "outputs": [
    {
     "name": "stdout",
     "output_type": "stream",
     "text": [
      "[[12, 21, 16], [27, 45, 33], [24, 39, 28]]\n"
     ]
    }
   ],
   "source": [
    "ans_mat = []\n",
    "for i in range(h):\n",
    "    ans_vec = []\n",
    "    for j in range(w):\n",
    "        ans_vec += sum([mat[i+ki][j+kj] for ki in k_range for kj in k_range if isValid(i+ki, j+kj, w, h)]),\n",
    "    ans_mat += ans_vec,\n",
    "print(ans_mat)"
   ]
  },
  {
   "cell_type": "code",
   "execution_count": 69,
   "metadata": {},
   "outputs": [
    {
     "data": {
      "text/plain": [
       "12"
      ]
     },
     "execution_count": 69,
     "metadata": {},
     "output_type": "execute_result"
    }
   ],
   "source": [
    "sum([mat[i+ki][j+kj] for ki in k_range for kj in k_range if isValid(i+ki, j+kj, w, h)])"
   ]
  },
  {
   "cell_type": "markdown",
   "metadata": {},
   "source": [
    "### V2 (DP)"
   ]
  },
  {
   "cell_type": "code",
   "execution_count": 97,
   "metadata": {},
   "outputs": [],
   "source": [
    "from collections import defaultdict"
   ]
  },
  {
   "cell_type": "code",
   "execution_count": 118,
   "metadata": {},
   "outputs": [],
   "source": [
    "def sumCum(mat, h, w):\n",
    "    cum = defaultdict(lambda: defaultdict(int))\n",
    "    \n",
    "    for i in range(h):\n",
    "        for j in range(w):\n",
    "            cum[i][j] = mat[i][j] + cum[i][j-1] + cum[i-1][j] - cum[i-1][j-1]\n",
    "    return cum"
   ]
  },
  {
   "cell_type": "code",
   "execution_count": 138,
   "metadata": {},
   "outputs": [],
   "source": [
    "def matrixBlockSum(mat, K):\n",
    "    h, w = len(mat), len(mat[0])\n",
    "    cum = sumCum(mat, h, w)\n",
    "    ans = []\n",
    "    \n",
    "    for i in range(h):\n",
    "        ansRow = []\n",
    "        for j in range(w):\n",
    "            # b: bottom, t: top, l: left, r: right\n",
    "            tl = cum[i-K-1][j-K-1]\n",
    "            tr = cum[i-K-1][min(j+K, w-1)]\n",
    "            bl = cum[min(i+K, h-1)][j-K-1]\n",
    "            br = cum[min(i+K, h-1)][min(j+K, w-1)]            \n",
    "            ansRow += (tl - tr - bl + br),\n",
    "        ans += ansRow,\n",
    "    return ans"
   ]
  },
  {
   "cell_type": "code",
   "execution_count": 139,
   "metadata": {},
   "outputs": [
    {
     "data": {
      "text/plain": [
       "[[45, 45, 45], [45, 45, 45], [45, 45, 45]]"
      ]
     },
     "execution_count": 139,
     "metadata": {},
     "output_type": "execute_result"
    }
   ],
   "source": [
    "matrixBlockSum(mat, 2)"
   ]
  },
  {
   "cell_type": "markdown",
   "metadata": {},
   "source": [
    "### V3"
   ]
  },
  {
   "cell_type": "markdown",
   "metadata": {},
   "source": [
    "Use exclusion and inclusion!"
   ]
  },
  {
   "cell_type": "code",
   "execution_count": 141,
   "metadata": {},
   "outputs": [],
   "source": [
    "def cumSum(mat, m, n):\n",
    "    cum = defaultdict(lambda: defaultdict(int))\n",
    "    \n",
    "    for i in range(m):\n",
    "        for j in range(n):\n",
    "            cum[i][j] += mat[i][j] + cum[i-1][j] + cum[i][j-1] - cum[i-1][j-1]\n",
    "    return cum"
   ]
  },
  {
   "cell_type": "code",
   "execution_count": 142,
   "metadata": {},
   "outputs": [],
   "source": [
    "def matrixBlockSum(mat, K):\n",
    "    m, n = len(mat), len(mat[0])\n",
    "    cum = cumSum(mat, m, n)\n",
    "    ans = []\n",
    "    \n",
    "    for i in range(m):\n",
    "        ansRow = []\n",
    "        for j in range(n):\n",
    "            r1, r2, c1, c2 = i-K-1, min(i+K, m-1), j-K-1, min(j+K, n-1)\n",
    "            ansRow += (cum[r2][c2]-cum[r1][c2]-cum[r2][c1]+cum[r1][c1]),\n",
    "        ans += ansRow,\n",
    "    return ans"
   ]
  },
  {
   "cell_type": "code",
   "execution_count": 144,
   "metadata": {},
   "outputs": [
    {
     "data": {
      "text/plain": [
       "[[12, 21, 16], [27, 45, 33], [24, 39, 28]]"
      ]
     },
     "execution_count": 144,
     "metadata": {},
     "output_type": "execute_result"
    }
   ],
   "source": [
    "matrixBlockSum(mat, 1)"
   ]
  }
 ],
 "metadata": {
  "kernelspec": {
   "display_name": "Python 2",
   "language": "python",
   "name": "python2"
  },
  "language_info": {
   "codemirror_mode": {
    "name": "ipython",
    "version": 2
   },
   "file_extension": ".py",
   "mimetype": "text/x-python",
   "name": "python",
   "nbconvert_exporter": "python",
   "pygments_lexer": "ipython2",
   "version": "2.7.18"
  }
 },
 "nbformat": 4,
 "nbformat_minor": 2
}
