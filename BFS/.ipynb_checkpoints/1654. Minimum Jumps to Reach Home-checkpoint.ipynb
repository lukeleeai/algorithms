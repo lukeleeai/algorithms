{
 "cells": [
  {
   "cell_type": "code",
   "execution_count": 13,
   "metadata": {},
   "outputs": [],
   "source": [
    "def minimumJumps(forbidden, a, b, x):\n",
    "    res = -1\n",
    "    \n",
    "    def run(pos, cnt, wentBack):\n",
    "        nonlocal res\n",
    "        \n",
    "        if pos in forbidden or pos < 0:\n",
    "            return\n",
    "        elif wentBack and pos > x:\n",
    "            return\n",
    "        elif pos == x:\n",
    "            return\n",
    "\n",
    "        bck = run(pos-b, cnt+1, True) if not wentBack else 0\n",
    "        if bck:\n",
    "            res = bck\n",
    "            return res\n",
    "        fwd = run(pos+a, cnt+1, False)\n",
    "                    \n",
    "    run(0, 0, False)\n",
    "    return res"
   ]
  },
  {
   "cell_type": "code",
   "execution_count": 20,
   "metadata": {},
   "outputs": [],
   "source": [
    "from collections import deque"
   ]
  },
  {
   "cell_type": "code",
   "execution_count": 22,
   "metadata": {},
   "outputs": [],
   "source": [
    "def minimumJumps(forbidden, a, b, x):\n",
    "    forbidden, visited, queue = set(forbidden), set(), deque([0, 0, True])\n",
    "    upper = max(x, max(forbidden)) + a + b\n",
    "    \n",
    "    while queue:\n",
    "        cnt, cur, can_back = queue.popleft()\n",
    "        if (cur, can) in visited or cur < 0 or cur in forbidden or cur > upper:\n",
    "            continue\n",
    "        if cur == x:\n",
    "            return cnt\n",
    "        queue.append((cnt+1, cur+a, True))\n",
    "        if can_back:\n",
    "            queue.append((cnt+1, cur-b, False))\n",
    "        visited.add((cur, can_back))\n",
    "    return -1"
   ]
  }
 ],
 "metadata": {
  "kernelspec": {
   "display_name": "Python 3",
   "language": "python",
   "name": "python3"
  },
  "language_info": {
   "codemirror_mode": {
    "name": "ipython",
    "version": 3
   },
   "file_extension": ".py",
   "mimetype": "text/x-python",
   "name": "python",
   "nbconvert_exporter": "python",
   "pygments_lexer": "ipython3",
   "version": "3.7.7"
  }
 },
 "nbformat": 4,
 "nbformat_minor": 2
}
