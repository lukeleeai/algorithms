{
 "cells": [
  {
   "cell_type": "markdown",
   "metadata": {},
   "source": [
    "You are given two integer arrays nums1 and nums2 sorted in ascending order and an integer k.\n",
    "\n",
    "Define a pair (u,v) which consists of one element from the first array and one element from the second array.\n",
    "\n",
    "Find the k pairs (u1,v1),(u2,v2) ...(uk,vk) with the smallest sums."
   ]
  },
  {
   "cell_type": "markdown",
   "metadata": {},
   "source": [
    "Input: nums1 = [1,7,11], nums2 = [2,4,6], k = 3  \n",
    "Output: [[1,2],[1,4],[1,6]]  \n",
    "Explanation: The first 3 pairs are returned from the sequence: \n",
    "             [1,2],[1,4],[1,6],[7,2],[7,4],[11,2],[7,6],[11,4],[11,6]"
   ]
  },
  {
   "cell_type": "code",
   "execution_count": 5,
   "metadata": {},
   "outputs": [],
   "source": [
    "from heapq import heapify, heappush, heappop\n",
    "\n",
    "class Solution:\n",
    "    def __init__(self):\n",
    "        self.queue = []\n",
    "    \n",
    "    def push(self, i, j):\n",
    "        if i<len(self.nums1) and j<len(self.nums2):\n",
    "            heappush(self.queue, (self.nums1[i]+self.nums2[j], i, j))\n",
    "    \n",
    "    def kSmallestPairs(self, nums1, nums2, k):\n",
    "        self.nums1, self.nums2 = nums1, nums2\n",
    "        self.push(0, 0)\n",
    "        ans = []\n",
    "        \n",
    "        while self.queue and len(ans) < k:\n",
    "            _, i, j = heappop(self.queue)\n",
    "            ans += (nums1[i], nums2[j]),\n",
    "            \n",
    "            self.push(i, j+1)\n",
    "            if j == 0: self.push(i+1, j)\n",
    "        return ans"
   ]
  },
  {
   "cell_type": "code",
   "execution_count": 6,
   "metadata": {},
   "outputs": [
    {
     "data": {
      "text/plain": [
       "[(1, 2), (1, 4), (1, 6)]"
      ]
     },
     "execution_count": 6,
     "metadata": {},
     "output_type": "execute_result"
    }
   ],
   "source": [
    "sol = Solution()\n",
    "sol.kSmallestPairs([1, 7, 11], [2, 4, 6], 3)"
   ]
  },
  {
   "cell_type": "code",
   "execution_count": null,
   "metadata": {},
   "outputs": [],
   "source": []
  },
  {
   "cell_type": "code",
   "execution_count": null,
   "metadata": {},
   "outputs": [],
   "source": []
  },
  {
   "cell_type": "code",
   "execution_count": null,
   "metadata": {},
   "outputs": [],
   "source": []
  },
  {
   "cell_type": "code",
   "execution_count": null,
   "metadata": {},
   "outputs": [],
   "source": []
  },
  {
   "cell_type": "code",
   "execution_count": null,
   "metadata": {},
   "outputs": [],
   "source": []
  }
 ],
 "metadata": {
  "kernelspec": {
   "display_name": "Python 2",
   "language": "python",
   "name": "python2"
  },
  "language_info": {
   "codemirror_mode": {
    "name": "ipython",
    "version": 2
   },
   "file_extension": ".py",
   "mimetype": "text/x-python",
   "name": "python",
   "nbconvert_exporter": "python",
   "pygments_lexer": "ipython2",
   "version": "2.7.18"
  }
 },
 "nbformat": 4,
 "nbformat_minor": 2
}
