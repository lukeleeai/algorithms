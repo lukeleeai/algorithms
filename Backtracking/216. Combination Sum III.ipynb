{
 "cells": [
  {
   "cell_type": "code",
   "execution_count": 7,
   "metadata": {},
   "outputs": [],
   "source": [
    "class Solution:\n",
    "    def combinationSum3(self, k, n):\n",
    "        ans = []\n",
    "        nums = range(1, 10)\n",
    "        def dfs(nums, k, n, path, ans):\n",
    "            if k == 0 and n == 0:\n",
    "                ans += path,\n",
    "            elif k <= 0 or n <= 0:\n",
    "                return\n",
    "            for i in range(len(nums)):\n",
    "                dfs(nums[i+1:], k-1, n-nums[i], path+[nums[i]], ans)\n",
    "        dfs(nums, k, n, [], ans)\n",
    "        return ans"
   ]
  },
  {
   "cell_type": "code",
   "execution_count": 8,
   "metadata": {},
   "outputs": [
    {
     "data": {
      "text/plain": [
       "[[1, 2, 4]]"
      ]
     },
     "execution_count": 8,
     "metadata": {},
     "output_type": "execute_result"
    }
   ],
   "source": [
    "sol = Solution()\n",
    "sol.combinationSum3(3, 7)"
   ]
  }
 ],
 "metadata": {
  "kernelspec": {
   "display_name": "Python 3",
   "language": "python",
   "name": "python3"
  },
  "language_info": {
   "codemirror_mode": {
    "name": "ipython",
    "version": 3
   },
   "file_extension": ".py",
   "mimetype": "text/x-python",
   "name": "python",
   "nbconvert_exporter": "python",
   "pygments_lexer": "ipython3",
   "version": "3.7.7"
  }
 },
 "nbformat": 4,
 "nbformat_minor": 4
}
