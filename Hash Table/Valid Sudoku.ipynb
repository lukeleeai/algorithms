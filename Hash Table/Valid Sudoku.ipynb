{
 "cells": [
  {
   "cell_type": "code",
   "execution_count": 88,
   "metadata": {},
   "outputs": [],
   "source": [
    "def isValidSudoku1(board):\n",
    "    row_dic = {key: [] for key in range(9)}\n",
    "    col_dic = {key: [] for key in range(9)}\n",
    "    square_dic = {key: [] for key in range(9)}\n",
    "    \n",
    "    for i in range(len(board)):\n",
    "        for j in range(len(board[0])):\n",
    "            square_idx = i//3*3+j//3\n",
    "            num = board[i][j]\n",
    "            if num == '.':continue\n",
    "            \n",
    "            if num in row_dic[i] or num in col_dic[j] or num in square_dic[square_idx]:\n",
    "                return False\n",
    "            \n",
    "            row_dic[i].append(num)\n",
    "            col_dic[j].append(num)\n",
    "            square_dic[square_idx].append(num)\n",
    "    return True"
   ]
  },
  {
   "cell_type": "code",
   "execution_count": null,
   "metadata": {},
   "outputs": [],
   "source": [
    "def isValidSudoku2(board):\n",
    "    "
   ]
  },
  {
   "cell_type": "code",
   "execution_count": 86,
   "metadata": {},
   "outputs": [],
   "source": [
    "# board = [\n",
    "#   [\"8\",\"3\",\".\",\".\",\"7\",\".\",\".\",\".\",\".\"],\n",
    "#   [\"6\",\".\",\".\",\"1\",\"9\",\"5\",\".\",\".\",\".\"],\n",
    "#   [\".\",\"9\",\"8\",\".\",\".\",\".\",\".\",\"6\",\".\"],\n",
    "#   [\"8\",\".\",\".\",\".\",\"6\",\".\",\".\",\".\",\"3\"],\n",
    "#   [\"4\",\".\",\".\",\"8\",\".\",\"3\",\".\",\".\",\"1\"],\n",
    "#   [\"7\",\".\",\".\",\".\",\"2\",\".\",\".\",\".\",\"6\"],\n",
    "#   [\".\",\"6\",\".\",\".\",\".\",\".\",\"2\",\"8\",\".\"],\n",
    "#   [\".\",\".\",\".\",\"4\",\"1\",\"9\",\".\",\".\",\"5\"],\n",
    "#   [\".\",\".\",\".\",\".\",\"8\",\".\",\".\",\"7\",\"9\"]\n",
    "# ]\n",
    "\n",
    "board = [[\"5\",\"3\",\".\",\".\",\"7\",\".\",\".\",\".\",\".\"],\n",
    "         [\"6\",\".\",\".\",\"1\",\"9\",\"5\",\".\",\".\",\".\"],\n",
    "         [\".\",\"9\",\"8\",\".\",\".\",\".\",\".\",\"6\",\".\"],\n",
    "         [\"8\",\".\",\".\",\".\",\"6\",\".\",\".\",\".\",\"3\"],\n",
    "         [\"4\",\".\",\".\",\"8\",\".\",\"3\",\".\",\".\",\"1\"],\n",
    "         [\"7\",\".\",\".\",\".\",\"2\",\".\",\".\",\".\",\"6\"],[\".\",\"6\",\".\",\".\",\".\",\".\",\"2\",\"8\",\".\"],[\".\",\".\",\".\",\"4\",\"1\",\"9\",\".\",\".\",\"5\"],[\".\",\".\",\".\",\".\",\"8\",\".\",\".\",\"7\",\"9\"]]"
   ]
  },
  {
   "cell_type": "code",
   "execution_count": 87,
   "metadata": {},
   "outputs": [
    {
     "name": "stdout",
     "output_type": "stream",
     "text": [
      "{0: ['5', '3', '7'], 1: ['6', '1', '9', '5'], 2: ['9', '8', '6'], 3: ['8', '6', '3'], 4: ['4', '8', '3', '1'], 5: ['7', '2', '6'], 6: ['6', '2', '8'], 7: ['4', '1', '9', '5'], 8: ['8', '7', '9']}\n",
      "{0: ['5', '6', '8', '4', '7'], 1: ['3', '9', '6'], 2: ['8'], 3: ['1', '8', '4'], 4: ['7', '9', '6', '2', '1', '8'], 5: ['5', '3', '9'], 6: ['2'], 7: ['6', '8', '7'], 8: ['3', '1', '6', '5', '9']}\n",
      "{0: ['5', '3', '6', '9', '8'], 1: ['7', '1', '9', '5'], 2: ['6'], 3: ['8', '4', '7'], 4: ['6', '8', '3', '2'], 5: ['3', '1', '6'], 6: ['6'], 7: ['4', '1', '9', '8'], 8: ['2', '8', '5', '7', '9']}\n"
     ]
    },
    {
     "data": {
      "text/plain": [
       "True"
      ]
     },
     "execution_count": 87,
     "metadata": {},
     "output_type": "execute_result"
    }
   ],
   "source": [
    "isValidSudoku(board)"
   ]
  },
  {
   "cell_type": "code",
   "execution_count": null,
   "metadata": {},
   "outputs": [],
   "source": []
  },
  {
   "cell_type": "code",
   "execution_count": null,
   "metadata": {},
   "outputs": [],
   "source": []
  }
 ],
 "metadata": {
  "kernelspec": {
   "display_name": "Python 2",
   "language": "python",
   "name": "python2"
  },
  "language_info": {
   "codemirror_mode": {
    "name": "ipython",
    "version": 2
   },
   "file_extension": ".py",
   "mimetype": "text/x-python",
   "name": "python",
   "nbconvert_exporter": "python",
   "pygments_lexer": "ipython2",
   "version": "2.7.18"
  }
 },
 "nbformat": 4,
 "nbformat_minor": 2
}
