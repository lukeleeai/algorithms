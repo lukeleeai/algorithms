{
 "cells": [
  {
   "cell_type": "code",
   "execution_count": 1,
   "metadata": {},
   "outputs": [
    {
     "data": {
      "text/plain": [
       "3"
      ]
     },
     "execution_count": 1,
     "metadata": {},
     "output_type": "execute_result"
    }
   ],
   "source": [
    "hash(3)"
   ]
  },
  {
   "cell_type": "code",
   "execution_count": 5,
   "metadata": {},
   "outputs": [
    {
     "data": {
      "text/plain": [
       "[12416037344, 15616046971, 12544037731]"
      ]
     },
     "execution_count": 5,
     "metadata": {},
     "output_type": "execute_result"
    }
   ],
   "source": [
    "map(hash, ['a', 'z', 'b'])"
   ]
  },
  {
   "cell_type": "code",
   "execution_count": 37,
   "metadata": {},
   "outputs": [],
   "source": [
    "class HashTable:\n",
    "    def __init__(self, size=4):\n",
    "        self.table = [None] * 4\n",
    "        \n",
    "    def hash(self, key):\n",
    "        length = len(self.table)\n",
    "        return hash(key) % length\n",
    "    \n",
    "    def add(self, key, value):\n",
    "        index = self.hash(key)\n",
    "        \n",
    "        if self.table[index] == None:\n",
    "            item = [[key, value]]\n",
    "            self.table[index] = item\n",
    "        \n",
    "        else:\n",
    "            if self.table[index][0] == key:\n",
    "                self.table[index][1] = value\n",
    "            else:\n",
    "                item = [key, value]\n",
    "                self.table[index].append(item)\n",
    "    \n",
    "    # get a value by key\n",
    "    def get(self, key):\n",
    "        index = self.hash(key)\n",
    "        \n",
    "        if self.table[index] != None:\n",
    "            for item in self.table[index]:\n",
    "                if item[0] == key:\n",
    "                    # return value\n",
    "                    return item[1]\n",
    "        return None\n",
    "    \n",
    "    def isFull(self):\n",
    "        pass\n",
    "    \n",
    "    def doubleTable(self):\n",
    "        pass"
   ]
  },
  {
   "cell_type": "code",
   "execution_count": 29,
   "metadata": {},
   "outputs": [],
   "source": [
    "ht = HashTable(4)"
   ]
  },
  {
   "cell_type": "code",
   "execution_count": 30,
   "metadata": {},
   "outputs": [],
   "source": [
    "ht.add('foo', 1)"
   ]
  },
  {
   "cell_type": "code",
   "execution_count": 31,
   "metadata": {},
   "outputs": [],
   "source": [
    "ht.add('bar', 2)"
   ]
  },
  {
   "cell_type": "code",
   "execution_count": 32,
   "metadata": {},
   "outputs": [],
   "source": [
    "ht.add('hello', 3)\n",
    "ht.add('world', 4)"
   ]
  },
  {
   "cell_type": "code",
   "execution_count": 34,
   "metadata": {},
   "outputs": [
    {
     "data": {
      "text/plain": [
       "4"
      ]
     },
     "execution_count": 34,
     "metadata": {},
     "output_type": "execute_result"
    }
   ],
   "source": [
    "ht.get('world')"
   ]
  }
 ],
 "metadata": {
  "kernelspec": {
   "display_name": "Python 2",
   "language": "python",
   "name": "python2"
  },
  "language_info": {
   "codemirror_mode": {
    "name": "ipython",
    "version": 2
   },
   "file_extension": ".py",
   "mimetype": "text/x-python",
   "name": "python",
   "nbconvert_exporter": "python",
   "pygments_lexer": "ipython2",
   "version": "2.7.18"
  }
 },
 "nbformat": 4,
 "nbformat_minor": 2
}
