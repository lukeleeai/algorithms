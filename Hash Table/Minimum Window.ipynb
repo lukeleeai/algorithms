{
 "cells": [
  {
   "cell_type": "markdown",
   "metadata": {},
   "source": [
    "\n",
    "Given a string S and a string T, find the minimum window in S which will contain all the characters in T in complexity O(n).\n",
    "\n",
    "Example:\n",
    "\n",
    "Input: S = \"ADOBECODEBANC\", T = \"ABC\"\n",
    "Output: \"BANC\"\n",
    "Note:\n",
    "\n",
    "If there is no such window in S that covers all characters in T, return the empty string \"\".\n",
    "If there is such window, you are guaranteed that there will always be only one unique minimum window in S."
   ]
  },
  {
   "cell_type": "code",
   "execution_count": null,
   "metadata": {},
   "outputs": [],
   "source": []
  },
  {
   "cell_type": "code",
   "execution_count": 268,
   "metadata": {},
   "outputs": [],
   "source": [
    "# v3 (5200 ms, 18.2 MB).......... \n",
    "'''\n",
    "\n",
    "eg.\n",
    "\n",
    "needed: {a: 2, b: 1, c: 1}\n",
    "\n",
    "dic: {a: [0, 4, 8], b: [5], c: [10]} -->\n",
    "indices: {a: [4, 8], b: [5], c: [10]} -->\n",
    "min_idx = min(4, 5, 10) = 4\n",
    "max_idx = max(8, 5, 10) = 10\n",
    "window = s[min_idx:max_idx+1]\n",
    "\n",
    "'''\n",
    "def minWindow(s, t):\n",
    "    needed = Counter(t)\n",
    "    missing = needed\n",
    "    dic = {k: [] for k in needed.keys()}\n",
    "    window = ''\n",
    "    \n",
    "    for i, c in enumerate(s):\n",
    "        if c in needed:\n",
    "            dic[c].append(i)\n",
    "            missing[c] -= 1\n",
    "            if all(v <= 0 for v in missing.values()):  # check if satisfied\n",
    "                indices = [v[-needed[k]:] for k, v in dic.items()]\n",
    "                min_idx = min(i[0] for i in indices)  # <<<--- indices of each c are already sorted\n",
    "                max_idx = max(i[-1] for i in indices)  # <<<--- indices of each c are already sorted\n",
    "                if not window or (max_idx - min_idx) < len(window):\n",
    "                    window = s[min_idx:max_idx+1]\n",
    "    return window"
   ]
  },
  {
   "cell_type": "code",
   "execution_count": 266,
   "metadata": {},
   "outputs": [],
   "source": [
    "# v2 (time limit exceeded)\n",
    "def minWindow(s, t):\n",
    "    needed = Counter(t)\n",
    "    missing = needed\n",
    "    dic = {k: [] for k in needed.keys()}\n",
    "    window = ''\n",
    "    \n",
    "    for i, c in enumerate(s):\n",
    "        if c in needed:\n",
    "            dic[c].append(i)\n",
    "            missing[c] -= 1\n",
    "            if all(v <= 0 for v in missing.values()):  # check if satisfied\n",
    "                indices = [v[-needed[k]:] for k, v in dic.items()]\n",
    "                min_idx = min(min(i) for i in indices)\n",
    "                max_idx = max(max(i) for i in indices)\n",
    "                if not window or (max_idx - min_idx) < len(window):\n",
    "                    window = s[min_idx:max_idx+1]\n",
    "    return window"
   ]
  },
  {
   "cell_type": "code",
   "execution_count": 258,
   "metadata": {},
   "outputs": [],
   "source": [
    "# def minWindow(s, t):\n",
    "#     t_unique_chars = list(set(t))\n",
    "#     dic = dict.fromkeys(t_unique_chars)\n",
    "#     min_window = ''\n",
    "#     if len(t) > len(s): return min_window\n",
    "\n",
    "#     for i in range(len(s)):\n",
    "#         if s[i] in t:\n",
    "#             dic[s[i]] = i\n",
    "\n",
    "#             if None not in dic.values():\n",
    "#                 window = s[min(dic.values()):max(dic.values())+1]\n",
    "#                 if len(window) < len(min_window) or min_window == '':\n",
    "#                     min_window = window\n",
    "#     return min_window"
   ]
  },
  {
   "cell_type": "code",
   "execution_count": 259,
   "metadata": {},
   "outputs": [],
   "source": [
    "s = \"ADOBECODEBANC\"; t = \"ABC\""
   ]
  },
  {
   "cell_type": "code",
   "execution_count": 260,
   "metadata": {},
   "outputs": [
    {
     "data": {
      "text/plain": [
       "'BANC'"
      ]
     },
     "execution_count": 260,
     "metadata": {},
     "output_type": "execute_result"
    }
   ],
   "source": [
    "minWindow(S, T)"
   ]
  },
  {
   "cell_type": "markdown",
   "metadata": {},
   "source": [
    "--> Failed. s='aa', t='aa' or 'a'인 경우를 해결하지 못했음"
   ]
  },
  {
   "cell_type": "code",
   "execution_count": 37,
   "metadata": {},
   "outputs": [],
   "source": [
    "def minWindow(s, t):\n",
    "    \n",
    "    pass"
   ]
  },
  {
   "cell_type": "code",
   "execution_count": 40,
   "metadata": {},
   "outputs": [],
   "source": [
    "from collections import Counter"
   ]
  },
  {
   "cell_type": "code",
   "execution_count": 41,
   "metadata": {},
   "outputs": [
    {
     "data": {
      "text/plain": [
       "Counter({'a': 4, 'b': 2, 'c': 3})"
      ]
     },
     "execution_count": 41,
     "metadata": {},
     "output_type": "execute_result"
    }
   ],
   "source": [
    "Counter('abbcacaca')"
   ]
  },
  {
   "cell_type": "code",
   "execution_count": 43,
   "metadata": {},
   "outputs": [],
   "source": [
    "a = 10\n",
    "a -= 3 > 0"
   ]
  },
  {
   "cell_type": "code",
   "execution_count": 44,
   "metadata": {},
   "outputs": [
    {
     "data": {
      "text/plain": [
       "9"
      ]
     },
     "execution_count": 44,
     "metadata": {},
     "output_type": "execute_result"
    }
   ],
   "source": [
    "a"
   ]
  },
  {
   "cell_type": "code",
   "execution_count": 45,
   "metadata": {},
   "outputs": [],
   "source": [
    "s = 'abcdef'"
   ]
  },
  {
   "cell_type": "code",
   "execution_count": 49,
   "metadata": {},
   "outputs": [
    {
     "name": "stdout",
     "output_type": "stream",
     "text": [
      "(1, 'a')\n",
      "(2, 'b')\n",
      "(3, 'c')\n",
      "(4, 'd')\n",
      "(5, 'e')\n",
      "(6, 'f')\n"
     ]
    }
   ],
   "source": [
    "for i, j in enumerate(s, 1):\n",
    "    print(i, j)"
   ]
  },
  {
   "cell_type": "code",
   "execution_count": 66,
   "metadata": {},
   "outputs": [
    {
     "data": {
      "text/plain": [
       "Counter({'a': 1, 'b': 1, 'c': 1})"
      ]
     },
     "execution_count": 66,
     "metadata": {},
     "output_type": "execute_result"
    }
   ],
   "source": [
    "need"
   ]
  },
  {
   "cell_type": "code",
   "execution_count": 69,
   "metadata": {},
   "outputs": [],
   "source": [
    "def test(s, t):\n",
    "    need, missing = Counter(t), len(t)\n",
    "    i = I = J = 0\n",
    "    \n",
    "    for j, c in enumerate(s, 1):\n",
    "        missing -= need[c] > 0\n",
    "        need[c] -= 1  # no error? --> counter 는 이게 되는구나\n",
    "        if not missing:\n",
    "            while i < j and need[s[i]] < 0:\n",
    "                need[s[i]] -= 1  # why?\n",
    "                i += 1\n",
    "            if not J or j - i <= J - I:\n",
    "                I, J = i, j\n",
    "    return s[I:J]"
   ]
  },
  {
   "cell_type": "code",
   "execution_count": 68,
   "metadata": {},
   "outputs": [
    {
     "name": "stdout",
     "output_type": "stream",
     "text": [
      "Counter({'a': 1, 'c': 1, 'b': 1})\n"
     ]
    },
    {
     "data": {
      "text/plain": [
       "'bca'"
      ]
     },
     "execution_count": 68,
     "metadata": {},
     "output_type": "execute_result"
    }
   ],
   "source": [
    "test(s, t)"
   ]
  },
  {
   "cell_type": "code",
   "execution_count": 257,
   "metadata": {},
   "outputs": [
    {
     "data": {
      "text/plain": [
       "'abac'"
      ]
     },
     "execution_count": 257,
     "metadata": {},
     "output_type": "execute_result"
    }
   ],
   "source": [
    "minWindow(s, t)"
   ]
  },
  {
   "cell_type": "code",
   "execution_count": 177,
   "metadata": {},
   "outputs": [
    {
     "data": {
      "text/plain": [
       "True"
      ]
     },
     "execution_count": 177,
     "metadata": {},
     "output_type": "execute_result"
    }
   ],
   "source": [
    "[2, 1, 1] <= [3, 0, 1]"
   ]
  },
  {
   "cell_type": "code",
   "execution_count": 147,
   "metadata": {},
   "outputs": [],
   "source": [
    "s = 'acbccccabac'\n",
    "t = 'abac'\n",
    "need = Counter(t)"
   ]
  },
  {
   "cell_type": "code",
   "execution_count": 106,
   "metadata": {},
   "outputs": [],
   "source": [
    "needed = Counter(t)\n",
    "dic = {k: [1] for k in needed.keys()}"
   ]
  },
  {
   "cell_type": "code",
   "execution_count": 107,
   "metadata": {},
   "outputs": [
    {
     "data": {
      "text/plain": [
       "Counter({'a': 2, 'b': 1, 'c': 1})"
      ]
     },
     "execution_count": 107,
     "metadata": {},
     "output_type": "execute_result"
    }
   ],
   "source": [
    "needed"
   ]
  },
  {
   "cell_type": "code",
   "execution_count": 128,
   "metadata": {},
   "outputs": [],
   "source": [
    "dic = {'a': [0, 4, 5], 'b': [3], 'c': [6]}"
   ]
  },
  {
   "cell_type": "code",
   "execution_count": 129,
   "metadata": {},
   "outputs": [
    {
     "data": {
      "text/plain": [
       "[[0, 4, 5], [6], [3]]"
      ]
     },
     "execution_count": 129,
     "metadata": {},
     "output_type": "execute_result"
    }
   ],
   "source": [
    "dic.values()"
   ]
  },
  {
   "cell_type": "code",
   "execution_count": 130,
   "metadata": {},
   "outputs": [
    {
     "data": {
      "text/plain": [
       "[('a', [0, 4, 5]), ('c', [6]), ('b', [3])]"
      ]
     },
     "execution_count": 130,
     "metadata": {},
     "output_type": "execute_result"
    }
   ],
   "source": [
    "dic.items()"
   ]
  },
  {
   "cell_type": "code",
   "execution_count": 134,
   "metadata": {},
   "outputs": [
    {
     "data": {
      "text/plain": [
       "3"
      ]
     },
     "execution_count": 134,
     "metadata": {},
     "output_type": "execute_result"
    }
   ],
   "source": [
    "min_idx = min([min(v[-needed[k]:]) for k, v in dic.items()])\n",
    "min_idx"
   ]
  },
  {
   "cell_type": "code",
   "execution_count": 139,
   "metadata": {},
   "outputs": [
    {
     "data": {
      "text/plain": [
       "[[4, 5], [6], [3]]"
      ]
     },
     "execution_count": 139,
     "metadata": {},
     "output_type": "execute_result"
    }
   ],
   "source": [
    "indices = [v[-needed[k]:] for k, v in dic.items()]\n",
    "indices"
   ]
  },
  {
   "cell_type": "code",
   "execution_count": 141,
   "metadata": {},
   "outputs": [
    {
     "data": {
      "text/plain": [
       "3"
      ]
     },
     "execution_count": 141,
     "metadata": {},
     "output_type": "execute_result"
    }
   ],
   "source": [
    "min_idx = min(min(i) for i in indices)\n",
    "min_idx"
   ]
  },
  {
   "cell_type": "code",
   "execution_count": 142,
   "metadata": {},
   "outputs": [
    {
     "data": {
      "text/plain": [
       "6"
      ]
     },
     "execution_count": 142,
     "metadata": {},
     "output_type": "execute_result"
    }
   ],
   "source": [
    "max_idx = max(max(i) for i in indices)\n",
    "max_idx"
   ]
  },
  {
   "cell_type": "code",
   "execution_count": 101,
   "metadata": {},
   "outputs": [
    {
     "data": {
      "text/plain": [
       "True"
      ]
     },
     "execution_count": 101,
     "metadata": {},
     "output_type": "execute_result"
    }
   ],
   "source": [
    "map(len, dic.values()) == needed.values()"
   ]
  },
  {
   "cell_type": "code",
   "execution_count": null,
   "metadata": {},
   "outputs": [],
   "source": []
  }
 ],
 "metadata": {
  "kernelspec": {
   "display_name": "Python 2",
   "language": "python",
   "name": "python2"
  },
  "language_info": {
   "codemirror_mode": {
    "name": "ipython",
    "version": 2
   },
   "file_extension": ".py",
   "mimetype": "text/x-python",
   "name": "python",
   "nbconvert_exporter": "python",
   "pygments_lexer": "ipython2",
   "version": "2.7.18"
  }
 },
 "nbformat": 4,
 "nbformat_minor": 2
}
